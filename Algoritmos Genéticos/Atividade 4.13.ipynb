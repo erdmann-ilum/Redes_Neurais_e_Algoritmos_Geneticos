{
 "cells": [
  {
   "cell_type": "markdown",
   "metadata": {},
   "source": [
    "<img src=\"https://pages.cnpem.br/capsuladaciencia/wp-content/uploads/sites/155/2022/10/Ilum.png\" alt=\"Ilum - Escola de Ciência\" width=\"200\"/>\n",
    "\n",
    "**Redes Neurais e Algoritmos Genéticos 2025**\n",
    "\n",
    "**Prof. Dr. Daniel R. Cassar**\n",
    "\n",
    "Rafael Dalacorte Erdmann (24017)"
   ]
  },
  {
   "cell_type": "markdown",
   "metadata": {},
   "source": [
    "## Fera Formidável 13: A liga ternária mais cara do mundo"
   ]
  },
  {
   "cell_type": "markdown",
   "metadata": {},
   "source": [
    "**Objetivo:** Encontre uma liga de três elementos que tenha o maior custo possível. A liga ternária deve ser da forma $x A.y B.z C$ sendo que $x + y + z = 100 ~g$, $x ≥ 5 ~g$, $y ≥ 5 ~g$, $z ≥ 5 ~g$ e “$A$”, “$B$” e “$C$” são elementos químicos diferentes. Utilize o preço dado abaixo [1]. Considere que qualquer composto com $3$ elementos químicos é chamado de liga.\n",
    "\n",
    "**Dica:** Pode ser interessante criar uma função que gere a população inicial para garantir que $x + y + z = 100 g$.\n",
    "\n",
    "**Dica 2:** Pode ser interessante criar uma ou mais funções de cruzamento e mutação neste problema de forma que todas elas garantam que, ao final do processo do operador, os indivíduos mantenham a característica de ter $x + y + z = 100 g$."
   ]
  },
  {
   "cell_type": "code",
   "execution_count": 1,
   "metadata": {},
   "outputs": [],
   "source": [
    "# preço em dólares por quilograma\n",
    "preco = {\n",
    "    \"H\": 1.39,\n",
    "    \"He\": 24,\n",
    "    \"Li\": 85.6,\n",
    "    \"Be\": 857,\n",
    "    \"B\": 3.68,\n",
    "    \"C\": 0.122,\n",
    "    \"N\": 0.14,\n",
    "    \"O\": 0.154,\n",
    "    \"F\": 2.16,\n",
    "    \"Ne\": 240,\n",
    "    \"Na\": 3.43,\n",
    "    \"Mg\": 2.32,\n",
    "    \"Al\": 1.79,\n",
    "    \"Si\": 1.7,\n",
    "    \"P\": 2.69,\n",
    "    \"S\": 0.0926,\n",
    "    \"Cl\": 0.082,\n",
    "    \"Ar\": 0.931,\n",
    "    \"K\": 13.6,\n",
    "    \"Ca\": 2.35,\n",
    "    \"Sc\": 3460,\n",
    "    \"Ti\": 11.7,\n",
    "    \"V\": 385,\n",
    "    \"Cr\": 9.4,\n",
    "    \"Mn\": 1.82,\n",
    "    \"Fe\": 0.424,\n",
    "    \"Co\": 32.8,\n",
    "    \"Ni\": 13.9,\n",
    "    \"Cu\": 6,\n",
    "    \"Zn\": 2.55,\n",
    "    \"Ga\": 148,\n",
    "    \"Ge\": 1010,\n",
    "    \"As\": 1.31,\n",
    "    \"Se\": 21.4,\n",
    "    \"Br\": 4.39,\n",
    "    \"Kr\": 290,\n",
    "    \"Rb\": 15500,\n",
    "    \"Sr\": 6.68,\n",
    "    \"Y\": 31,\n",
    "    \"Nb\": 85.6,\n",
    "    \"Mo\": 40.1,\n",
    "    \"Tc\": 100000,\n",
    "    \"Ru\": 10600,\n",
    "    \"Rh\": 147000,\n",
    "    \"Pd\": 49500,\n",
    "    \"Ag\": 521,\n",
    "    \"Cd\": 2.73,\n",
    "    \"In\": 167,\n",
    "    \"Sn\": 18.7,\n",
    "    \"Sb\": 5.79,\n",
    "    \"Te\": 63.5,\n",
    "    \"I\": 35,\n",
    "    \"Xe\": 1800,\n",
    "    \"Cs\": 61800,\n",
    "    \"Ba\": 0.275,\n",
    "    \"La\": 4.92,\n",
    "    \"Ce\": 4.71,\n",
    "    \"Pr\": 103,\n",
    "    \"Nd\": 57.5,\n",
    "    \"Pm\": 460000,\n",
    "    \"Sm\": 13.9,\n",
    "    \"Eu\": 31.4,\n",
    "    \"Gd\": 28.6,\n",
    "    \"Tb\": 658,\n",
    "    \"Dy\": 307,\n",
    "    \"Ho\": 57.1,\n",
    "    \"Er\": 26.4,\n",
    "    \"Tm\": 3000,\n",
    "    \"Yb\": 17.1,\n",
    "    \"Lu\": 643,\n",
    "    \"Hf\": 900,\n",
    "    \"Ta\": 312,\n",
    "    \"W\": 35.3,\n",
    "    \"Re\": 4150,\n",
    "    \"Os\": 12000,\n",
    "    \"Ir\": 56200,\n",
    "    \"Pt\": 27800,\n",
    "    \"Hg\": 30.2,\n",
    "    \"Tl\": 4200,\n",
    "    \"Pb\": 2,\n",
    "    \"Bi\": 6.36,\n",
    "    \"Po\": 49200000000000,\n",
    "    \"Ac\": 29000000000000,\n",
    "    \"Th\": 287,\n",
    "    \"Pa\": 280000,\n",
    "    \"U\": 101,\n",
    "    \"Np\": 660000,\n",
    "    \"Pu\": 6490000,\n",
    "    \"Am\": 750000,\n",
    "    \"Cm\": 160000000000,\n",
    "    \"Bk\": 185000000000,\n",
    "    \"Cf\": 185000000000,\n",
    "}\n"
   ]
  },
  {
   "cell_type": "markdown",
   "metadata": {},
   "source": [
    "### Introdução"
   ]
  },
  {
   "cell_type": "markdown",
   "metadata": {},
   "source": [
    "Esse problema é categorizado como um problema de satisfação de restrições (ou *constraint satisfaction problem*, CSP), ou seja, é um problema onde estamos tentando maximizar um ganho (também poderia ser minimizar uma perda), porém nossas variáveis tem limitações [1]. As limitações nesse tipo de problema podem ser classificadas como duras (*hard*), como nesse caso em que para o indivíduo ser válido ele deve ter $3$ elementos que somem massa $100 ~g$ sem nenhum deles ter menos que $5 ~g$, ou como moles (*soft*), quando há penalização para indivíduos fora da limitação, mas eles não se tornam inválidos.\n",
    "\n",
    "Nosso objetivo aqui, portanto, é maximizar a função de preço do material sem gerar indivíduos inválidos conforme as regras definidas no enunciado.\n",
    "\n"
   ]
  },
  {
   "cell_type": "markdown",
   "metadata": {},
   "source": [
    "Antes de começarmos, vamos importar as funções que serão utilizadas:"
   ]
  },
  {
   "cell_type": "code",
   "execution_count": 2,
   "metadata": {},
   "outputs": [],
   "source": [
    "from pprint import pprint\n",
    "from functools import partial\n",
    "from random import seed\n",
    "\n",
    "from funcoes_feras import populacao_liga as cria_populacao\n",
    "from funcoes_feras import funcao_objetivo_liga\n",
    "from funcoes_feras import funcao_objetivo_pop_liga\n",
    "funcao_objetivo = partial(funcao_objetivo_pop_liga, tabela=preco)\n",
    "from funcoes_feras import selecao_torneio_max as funcao_selecao\n",
    "from funcoes_feras import cruzamento_ponto_simples_liga as funcao_cruzamento\n",
    "from funcoes_feras import mutacao_troca_liga as funcao_mutacao_1\n",
    "from funcoes_feras import mutacao_simples_liga\n",
    "funcao_mutacao_2 = partial(mutacao_simples_liga, elementos=preco)\n",
    "from funcoes_feras import mutacao_distribuicao_valores_liga as funcao_mutacao_3"
   ]
  },
  {
   "cell_type": "markdown",
   "metadata": {},
   "source": [
    "E definir os parâmetros para o algoritmo genético:"
   ]
  },
  {
   "cell_type": "code",
   "execution_count": 3,
   "metadata": {},
   "outputs": [],
   "source": [
    "SEMENTE_ALEATORIA = 42\n",
    "seed(SEMENTE_ALEATORIA)\n",
    "\n",
    "TAMANHO_POPULACAO = 100\n",
    "NUM_GERACOES = 200\n",
    "CHANCE_DE_CRUZAMENTO = 0.5\n",
    "CHANCE_DE_MUTACAO = 0.025\n",
    "TAMANHO_TORNEIO = 3"
   ]
  },
  {
   "cell_type": "markdown",
   "metadata": {},
   "source": [
    "### População\n",
    "\n",
    "Primeiro, precisamos de uma população de candidatos. Para modelar o problema, utilizei uma estrutura de dicionário: cada candidato é um dicionário que contém três chaves, os elementos, contendo um float, as massas, cada. Tendo em mente que a massa mínima de cada é de $5 ~g$ e a soma das massas deve ser $100 ~g$, o resto pode ser decidido aleatoriamente pelo `random.uniform`."
   ]
  },
  {
   "cell_type": "code",
   "execution_count": 4,
   "metadata": {},
   "outputs": [
    {
     "name": "stdout",
     "output_type": "stream",
     "text": [
      "[{'Be': 21.588372456000513, 'P': 10.379835064413705, 'Po': 68.03179247958579},\n",
      " {'Ar': 67.95675829675244, 'Np': 15.02159538297036, 'Si': 17.021646320277192},\n",
      " {'B': 69.43676680503879, 'Ba': 23.030469542725232, 'Ir': 7.532763652235979},\n",
      " {'Be': 15.59081273300643, 'Dy': 52.705830349782104, 'Hg': 31.703356917211465},\n",
      " {'Cm': 23.73745287345922, 'Cs': 32.2163019786601, 'Lu': 44.04624514788068},\n",
      " {'Cm': 40.440468649959435, 'H': 40.92222384304772, 'Sc': 18.637307506992848},\n",
      " {'Ni': 12.883396687312572, 'Rh': 12.458438466106637, 'Si': 74.65816484658079},\n",
      " {'Hg': 16.963293528427705, 'Pd': 73.60590322832232, 'Se': 9.430803243249983},\n",
      " {'S': 27.956440854592522, 'Sn': 60.34554230873853, 'Yb': 11.698016836668945},\n",
      " {'Bi': 54.074932346824774, 'Cd': 15.613276770632211, 'Pb': 30.311790882543022},\n",
      " {'C': 70.71080896703882, 'Pa': 24.004126121809872, 'Zn': 5.285064911151309},\n",
      " {'Al': 44.01338065235101, 'Sn': 27.358863083291155, 'Zn': 28.62775626435783},\n",
      " {'Cd': 35.19800951933932, 'In': 23.075056954039212, 'Sc': 41.72693352662146},\n",
      " {'Ac': 33.81145087001194, 'Cm': 11.069213314176608, 'Pu': 55.11933581581145},\n",
      " {'Ge': 17.338743410829494, 'Sc': 38.369138581825666, 'Yb': 44.29211800734484},\n",
      " {'Am': 26.510552648897445, 'Po': 23.667289787472864, 'Ta': 49.82215756362969},\n",
      " {'B': 14.923362350365196, 'O': 73.42889306555323, 'Zn': 11.647744584081579},\n",
      " {'F': 79.49124825017685, 'Ni': 8.306871730471645, 'W': 12.201880019351506},\n",
      " {'Tb': 11.301190266111568, 'Te': 8.50074165351873, 'Th': 80.19806808036971},\n",
      " {'Ar': 33.088520467479356, 'K': 25.963338153988595, 'Se': 40.94814137853206},\n",
      " {'Ba': 10.216239582037872, 'Os': 8.468815311751587, 'Se': 81.31494510621054},\n",
      " {'Ar': 37.53729408042203, 'Cu': 46.94884596561864, 'Ho': 15.513859953959326},\n",
      " {'Bi': 27.81413017332541, 'Ca': 53.58739968026632, 'P': 18.59847014640827},\n",
      " {'F': 57.35849123631198, 'Pt': 37.43763935305562, 'Sb': 5.203869410632393},\n",
      " {'As': 5.135863259950187, 'Hf': 16.69786205011748, 'Tm': 78.16627468993234},\n",
      " {'P': 68.82461296528683, 'Pu': 21.275375638411454, 'Yb': 9.900011396301721},\n",
      " {'P': 26.79913446006026, 'Rh': 41.955046306873925, 'Sr': 31.245819233065816},\n",
      " {'Dy': 9.452979837118072, 'Se': 48.15294234136764, 'V': 42.39407782151429},\n",
      " {'Bi': 48.151344968098904, 'Po': 38.524492952133414, 'Y': 13.324162079767685},\n",
      " {'In': 86.04747855054774, 'Lu': 5.30658096010275, 'Sc': 8.64594048934951},\n",
      " {'H': 46.53148518246057, 'Pt': 9.862723875715758, 'Tc': 43.60579094182367},\n",
      " {'Cd': 9.923639152005942, 'Ga': 14.768547354128671, 'Nb': 75.30781349386538},\n",
      " {'F': 5.874455373737575, 'Gd': 5.99686266368901, 'Na': 88.12868196257341},\n",
      " {'Cl': 85.48213777492423, 'Pa': 5.746020850290848, 'Sm': 8.771841374784927},\n",
      " {'Ba': 5.215331905176072, 'Hg': 7.813821084190245, 'Tm': 86.97084701063369},\n",
      " {'Am': 31.49588476057607, 'Cf': 5.283782596896373, 'Fe': 63.22033264252756},\n",
      " {'Ce': 9.680360591510919, 'In': 8.852442213838714, 'Th': 81.46719719465037},\n",
      " {'Cu': 38.099852946216494, 'F': 28.16287427124979, 'Ge': 33.73727278253371},\n",
      " {'Cu': 29.654945702911775, 'Ir': 64.73383298335527, 'Zn': 5.611221313732951},\n",
      " {'F': 6.128432971564052, 'O': 81.96070110552088, 'Zn': 11.910865922915058},\n",
      " {'Ga': 36.55923677225451, 'Ho': 34.770195790759004, 'Ne': 28.67056743698649},\n",
      " {'Cl': 13.753249040566649, 'Lu': 53.97799022627649, 'Re': 32.26876073315687},\n",
      " {'Mn': 31.25229477084605, 'Sm': 13.017692701809988, 'Xe': 55.730012527343966},\n",
      " {'Ag': 44.697096783117374, 'Ba': 38.0292526458461, 'Xe': 17.273650571036526},\n",
      " {'Ac': 50.77980797791374, 'Np': 13.365519047916505, 'Th': 35.85467297416975},\n",
      " {'Ge': 36.86405201939919, 'Rh': 21.28515613204059, 'Si': 41.85079184856022},\n",
      " {'Ar': 28.67633729668994, 'Ba': 20.319046351033933, 'Cr': 51.00461635227613},\n",
      " {'Ce': 55.00500843003654, 'Hf': 31.672749672827436, 'Ne': 13.32224189713603},\n",
      " {'He': 10.31182233180995, 'Lu': 83.74119355569084, 'Mg': 5.946984112499209},\n",
      " {'Gd': 10.966824370209068, 'Ti': 45.91546552753836, 'Xe': 43.11771010225257},\n",
      " {'O': 5.183207159871246, 'Sn': 56.70247150652424, 'Ti': 38.114321333604515},\n",
      " {'Ba': 11.95019299661162, 'Nd': 64.2102778060138, 'Rb': 23.83952919737457},\n",
      " {'Cf': 40.34712965796227, 'Pa': 13.285800351419724, 'Ta': 46.367069990618006},\n",
      " {'Ni': 67.53766019706869, 'O': 6.369249684066972, 'Os': 26.09309011886434},\n",
      " {'Mo': 54.655095529012556, 'N': 22.571705723497786, 'O': 22.773198747489662},\n",
      " {'O': 8.066718161874462, 'Sc': 5.267075059797257, 'Tm': 86.66620677832829},\n",
      " {'Cr': 10.776673386939365, 'F': 73.27618411908684, 'Pt': 15.9471424939738},\n",
      " {'I': 25.928304562033112, 'S': 43.09185013723253, 'W': 30.979845300734354},\n",
      " {'Cs': 17.662018476746965, 'Na': 21.461262543088626, 'Pb': 60.87671898016441},\n",
      " {'Co': 24.25311677719654, 'Mo': 61.92670785543548, 'Se': 13.820175367367982},\n",
      " {'Cl': 24.534513225984185, 'Se': 62.09366895159756, 'Te': 13.371817822418263},\n",
      " {'He': 5.071166400007826, 'Mo': 43.95426942257982, 'Ne': 50.97456417741236},\n",
      " {'Al': 23.118116542698434, 'Ne': 22.737103232164383, 'Yb': 54.14478022513718},\n",
      " {'F': 13.453683894271077, 'Ge': 50.13651356292378, 'Pd': 36.40980254280514},\n",
      " {'Bk': 37.585986666581086, 'Lu': 56.99261008670576, 'Y': 5.4214032467131545},\n",
      " {'He': 17.57430253224652, 'Th': 61.7683723155696, 'Tm': 20.657325152183876},\n",
      " {'Ar': 11.895205306059964, 'Pa': 27.47960332640585, 'Si': 60.625191367534185},\n",
      " {'Br': 53.19162549422258, 'Ca': 17.859091431856413, 'Hf': 28.949283073921013},\n",
      " {'Co': 13.207199707954604, 'Pu': 27.882573786813623, 'Rh': 58.910226505231776},\n",
      " {'As': 37.680832112647856, 'Gd': 12.845369755582341, 'N': 49.473798131769804},\n",
      " {'C': 12.410632137206782, 'H': 54.237062081360726, 'Kr': 33.35230578143249},\n",
      " {'Ce': 26.809228554647348, 'Sc': 21.297935649609396, 'Se': 51.89283579574326},\n",
      " {'He': 85.32932981896433, 'Ne': 6.443145429848613, 'P': 8.227524751187064},\n",
      " {'B': 10.869674732465384, 'Ca': 75.94057669031142, 'Lu': 13.189748577223202},\n",
      " {'Cl': 56.745669556663366, 'K': 8.555452944352917, 'La': 34.69887749898372},\n",
      " {'Ag': 23.02342957317283, 'C': 62.975668506399, 'Co': 14.000901920428163},\n",
      " {'Ag': 87.77614692416957, 'Ta': 6.666728090807606, 'Xe': 5.557124985022824},\n",
      " {'Ga': 79.92037739638258, 'Sc': 5.249837173650425, 'V': 14.829785429967004},\n",
      " {'Ru': 78.44544241189875, 'U': 7.186707920228741, 'Xe': 14.367849667872505},\n",
      " {'Br': 14.188128244251354, 'Cm': 14.691275460448296, 'Sc': 71.12059629530034},\n",
      " {'Cu': 12.176191191810144, 'Fe': 13.413947332450888, 'Sm': 74.40986147573896},\n",
      " {'Cu': 71.96096716002822, 'Nb': 7.011476949623379, 'Zn': 21.027555890348406},\n",
      " {'F': 7.028849475610457, 'Kr': 5.785576680278847, 'Ru': 87.18557384411069},\n",
      " {'Ac': 62.75904006062241, 'Ho': 27.98213995110345, 'I': 9.25881998827414},\n",
      " {'Be': 7.730152014843089, 'P': 12.721583001234293, 'Ru': 79.54826498392262},\n",
      " {'B': 47.85202856898132, 'Os': 14.214216513250443, 'Se': 37.93375491776824},\n",
      " {'Hg': 6.1849929150360055, 'La': 5.154959893053855, 'Mo': 88.66004719191014},\n",
      " {'As': 50.80743775760796, 'Mn': 40.4197068767674, 'Re': 8.772855365624643},\n",
      " {'Er': 66.15154992731186, 'Pu': 11.154090684906308, 'Yb': 22.694359387781834},\n",
      " {'Cd': 7.4713930857579385, 'Fe': 50.86832794611817, 'U': 41.66027896812389},\n",
      " {'Mo': 30.04627694513492, 'Pb': 8.56578757229381, 'Ru': 61.387935482571265},\n",
      " {'Dy': 14.235576414229472, 'Nb': 24.078526736783502, 'Y': 61.68589684898702},\n",
      " {'Cm': 15.819462920028023, 'Hf': 47.991602227392484, 'Sr': 36.18893485257949},\n",
      " {'Np': 14.835412714424844, 'Sn': 57.31876785586734, 'V': 27.845819429707817},\n",
      " {'H': 31.056524158259265, 'Hf': 29.387665933858813, 'Y': 39.55580990788192},\n",
      " {'Hg': 30.450769122301693, 'Os': 32.391184527605745, 'Th': 37.15804635009256},\n",
      " {'Ho': 9.425041014310182, 'Ni': 45.35413318339709, 'Np': 45.22082580229273},\n",
      " {'Na': 25.463958449562924, 'Pa': 45.41419712602974, 'Ti': 29.121844424407332},\n",
      " {'Mg': 8.840935357516102, 'Pb': 74.56599448561646, 'Ru': 16.593070156867444},\n",
      " {'Cu': 19.019337427006462, 'Nb': 7.4228165340109395, 'Np': 73.5578460389826}]\n"
     ]
    }
   ],
   "source": [
    "populacao = cria_populacao(TAMANHO_POPULACAO, preco)\n",
    "\n",
    "pprint(populacao)"
   ]
  },
  {
   "cell_type": "markdown",
   "metadata": {},
   "source": [
    "### Função objetivo\n",
    "\n",
    "Em seguida, deve-se montar a função objetivo, que nesse caso pega a quantidade do elemento (em $g$) e multiplica pelo preço por $1000 ~g$ do respectivo elemento (conforme tabela `preco`, do enunciado), resultando no custo. A soma dos custos dos três elementos é o fitness do problema, que deve ser maximizado pela `funcao_torneio_max`.\n",
    "\n",
    "### Cruzamento\n",
    "\n",
    "Por causa da estrutura de dados diferenciada, foi necessário preparar uma nova função de cruzamento. Para isso, utilizei um cruzamento de ponto simples que troca apenas os elementos (chaves do dicionário) do genoma herdado, de modo a evitar que a massa dos elementos quebre a delimitação de $100 ~g$. Com isso, os filhos possuem elementos de ambos os pais, mas enquanto um filho fica com as massas de um parente, o outro filho fica com as massas do outro.\n",
    "\n",
    "### Mutação\n",
    "\n",
    "Como mutação, pensei em três, que podem ocorrer independentemente em cada individuo:\n",
    "- `mutacao_troca_liga`: troca a informação de massa entre dois elementos do candidato (objetivo: encontrar elementos mais adequados para cada valor), ex: {\"Au\":75, \"Ni\":20, \"Pm\":5} -> {\"Au\":20, \"Ni\":75, \"Pm\":5}\n",
    "- `mutacao_simples_liga`: troca um elemento por outro possível (objetivo: trazer novos elementos), ex: {\"Au\":75, \"Ni\":20, \"Pm\":5} -> {\"C\":75, \"Ni\":20, \"Pm\":5}\n",
    "- `mutacao_distribuicao_valores_liga`: escolhe dois elementos, soma suas massas e as redistribui aleatoriamente (objetivo: gerar novos valores), ex: {\"Au\":75, \"Ni\":20, \"Pm\":5} -> {\"Au\":45, \"Ni\":50, \"Pm\":5}"
   ]
  },
  {
   "cell_type": "markdown",
   "metadata": {},
   "source": [
    "### Aplicação dos operadores"
   ]
  },
  {
   "cell_type": "markdown",
   "metadata": {},
   "source": [
    "As gerações do algoritmo seguem o *pipeline*:"
   ]
  },
  {
   "cell_type": "code",
   "execution_count": 5,
   "metadata": {},
   "outputs": [],
   "source": [
    "hall_da_fama = []\n",
    "\n",
    "for n in range(NUM_GERACOES):\n",
    "    \n",
    "    # Seleção\n",
    "    fitness = funcao_objetivo(populacao)        \n",
    "    selecionados = funcao_selecao(populacao, fitness, TAMANHO_TORNEIO)\n",
    "    \n",
    "    # Cruzamento\n",
    "    proxima_geracao = []\n",
    "    for pai, mae in zip(selecionados[::2], selecionados[1::2]):\n",
    "        individuo1, individuo2 = funcao_cruzamento(pai, mae, CHANCE_DE_CRUZAMENTO)\n",
    "        proxima_geracao.append(individuo1)\n",
    "        proxima_geracao.append(individuo2)\n",
    "    \n",
    "    # Mutação\n",
    "    funcao_mutacao_1(proxima_geracao, CHANCE_DE_MUTACAO)\n",
    "    funcao_mutacao_2(proxima_geracao, CHANCE_DE_MUTACAO)\n",
    "    funcao_mutacao_3(proxima_geracao, CHANCE_DE_MUTACAO)\n",
    "    \n",
    "    # Atualização do hall da fama\n",
    "    fitness = funcao_objetivo(proxima_geracao)\n",
    "        \n",
    "    maior_fitness = max(fitness)\n",
    "    indice = fitness.index(maior_fitness)\n",
    "    hall_da_fama.append(proxima_geracao[indice])    \n",
    "    \n",
    "    # Encerramento\n",
    "    populacao = proxima_geracao"
   ]
  },
  {
   "cell_type": "markdown",
   "metadata": {},
   "source": [
    "E por fim podemos exibir nosso melhor candidato."
   ]
  },
  {
   "cell_type": "code",
   "execution_count": 6,
   "metadata": {},
   "outputs": [
    {
     "name": "stdout",
     "output_type": "stream",
     "text": [
      "\n",
      "Melhor individuo obtido por algoritmos genéticos:\n",
      "{'Po': 88.86103695183586, 'Ac': 6.138646726199814, 'Bk': 5.000316321964348} com preço: 4.550908831609682 10**12 USD\n",
      "\n"
     ]
    }
   ],
   "source": [
    "fitness = funcao_objetivo(hall_da_fama)\n",
    "maior_fitness = max(fitness)\n",
    "indice = fitness.index(maior_fitness)\n",
    "melhor_individuo_observado = hall_da_fama[indice]\n",
    "custo = funcao_objetivo_liga(melhor_individuo_observado, preco)\n",
    "\n",
    "print()\n",
    "print(\"Melhor individuo obtido por algoritmos genéticos:\")\n",
    "print(melhor_individuo_observado, \"com preço:\", custo/10**12, \"10**12 USD\")\n",
    "print()"
   ]
  },
  {
   "cell_type": "markdown",
   "metadata": {},
   "source": [
    "Esse resultado concorda com nosso senso ao observar a tabela de preços: se queremos a liga mais cara e sabemos que alguns elementos (Po, Ac, Cf e Bk) são muito mais caros que outros, é intuitivo concluir que o melhor candidato terá a maior porcentagem possível do elemento mais caro, seguido das menores porcentagens possíveis dos próximos dois. Nesse caso, Cf e Bk tem o mesmo preço por quilo, de maneira que vez o algoritmo genético encontra a solução com um, vez com outro.\n",
    "\n",
    "Com isso, o algoritmo rapidamente localiza quais elementos são os mais caros. Não é tão rápido para encontrar os valores exatos da massa de cada, pois o espaço de busca é muito maior, visto que suas tentativas e erros estão acontecendo na escala dos números float, diferentemente da lista de $92$ elementos. Vamos ver o erro relativo ao valor que intuitivamente identificamos:"
   ]
  },
  {
   "cell_type": "code",
   "execution_count": 7,
   "metadata": {},
   "outputs": [
    {
     "name": "stdout",
     "output_type": "stream",
     "text": [
      "Erro relativo da massa molar: 0.5032%\n"
     ]
    }
   ],
   "source": [
    "custo_real = (preco[\"Po\"]*90+preco[\"Ac\"]*5+preco[\"Bk\"]*5)/1000\n",
    "\n",
    "erro_relativo = abs(custo-custo_real)/custo_real\n",
    "\n",
    "print(f\"Erro relativo da massa molar: {erro_relativo:0.4%}\")"
   ]
  },
  {
   "cell_type": "markdown",
   "metadata": {},
   "source": [
    "Ou seja, o erro é menor que $1$%, de modo que a solução encontrada funciona bem, mesmo não sendo perfeita. Em problemas reais, pode não ser tão simples identificar a solução perfeita sem testar todas as possibilidades com busca exaustiva (o que muitas vezes se torna computacionalmente impossível)."
   ]
  },
  {
   "cell_type": "markdown",
   "metadata": {},
   "source": [
    "### Conclusão"
   ]
  },
  {
   "cell_type": "markdown",
   "metadata": {},
   "source": [
    "Com esse desenvolvimento, pudemos encontrar uma resposta suficiente para o problema, sem gerar indivíduos inválidos. Observe, ainda, que o resultado encontrado foi altamente eficiente, visto que não seria computacionalmente viável (ou, ao menos, tão rápido quanto foi com algoritmo genético) realizar uma busca exaustiva nesse problema para encontrar o candidato perfeito, visto que devem ser escolhidos combinações de três dentre $92$ elementos com massas variando entre $5$ e $90 ~g$."
   ]
  },
  {
   "cell_type": "markdown",
   "metadata": {},
   "source": [
    "### Referências"
   ]
  },
  {
   "cell_type": "markdown",
   "metadata": {},
   "source": [
    "[1] EYAL WIRSANSKY. Hands-On Genetic Algorithms with Python: Applying genetic algorithms to solve real-world deep learning and artificial intelligence problems, 2020. Chapter 5: Constraint Satisfaction."
   ]
  }
 ],
 "metadata": {
  "kernelspec": {
   "display_name": "base",
   "language": "python",
   "name": "python3"
  },
  "language_info": {
   "codemirror_mode": {
    "name": "ipython",
    "version": 3
   },
   "file_extension": ".py",
   "mimetype": "text/x-python",
   "name": "python",
   "nbconvert_exporter": "python",
   "pygments_lexer": "ipython3",
   "version": "3.11.5"
  }
 },
 "nbformat": 4,
 "nbformat_minor": 2
}
