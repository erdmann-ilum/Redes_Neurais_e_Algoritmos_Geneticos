{
 "cells": [
  {
   "cell_type": "markdown",
   "metadata": {},
   "source": [
    "<img src=\"https://pages.cnpem.br/capsuladaciencia/wp-content/uploads/sites/155/2022/10/Ilum.png\" alt=\"Ilum - Escola de Ciência\" width=\"200\"/>\n",
    "\n",
    "**Redes Neurais e Algoritmos Genéticos 2025**\n",
    "\n",
    "**Prof. Dr. Daniel R. Cassar**\n",
    "\n",
    "Rafael Dalacorte Erdmann (24017)"
   ]
  },
  {
   "cell_type": "markdown",
   "metadata": {},
   "source": [
    "## Fera Formidável 14: A liga ternária leve mais cara do mundo"
   ]
  },
  {
   "cell_type": "markdown",
   "metadata": {},
   "source": [
    "**Objetivo:** Encontre uma liga de três elementos que tenha o maior custo e o menor peso atômico. A liga ternária deve ser da forma $x A.y B.z C$ sendo que $x + y + z = 100 ~g$, $x ≥ 5 ~g$, $y ≥ 5 ~g$, $z ≥ 5 ~g$ e “$A$”, “$B$” e “$C$” são elementos químicos diferentes. Utilize o preço dado no exercício anterior e peso atômico dados abaixo [3]. Considere que qualquer composto com $3$ elementos químicos é chamado de liga."
   ]
  },
  {
   "cell_type": "code",
   "execution_count": 1,
   "metadata": {},
   "outputs": [],
   "source": [
    "# preço em dólares por quilograma\n",
    "preco = {\n",
    "    \"H\": 1.39,\"He\": 24,\"Li\": 85.6,\"Be\": 857,\n",
    "    \"B\": 3.68,\"C\": 0.122,\"N\": 0.14,\"O\": 0.154,\n",
    "    \"F\": 2.16,\"Ne\": 240,\"Na\": 3.43,\"Mg\": 2.32,\n",
    "    \"Al\": 1.79,\"Si\": 1.7,\"P\": 2.69,\"S\": 0.0926,\n",
    "    \"Cl\": 0.082,\"Ar\": 0.931,\"K\": 13.6,\"Ca\": 2.35,\n",
    "    \"Sc\": 3460,\"Ti\": 11.7,\"V\": 385,\"Cr\": 9.4,\n",
    "    \"Mn\": 1.82,\"Fe\": 0.424,\"Co\": 32.8,\"Ni\": 13.9,\n",
    "    \"Cu\": 6,\"Zn\": 2.55,\"Ga\": 148,\"Ge\": 1010,\n",
    "    \"As\": 1.31,\"Se\": 21.4,\"Br\": 4.39,\"Kr\": 290,\n",
    "    \"Rb\": 15500,\"Sr\": 6.68,\"Y\": 31,\"Nb\": 85.6,\n",
    "    \"Mo\": 40.1,\"Tc\": 100000,\"Ru\": 10600,\"Rh\": 147000,\n",
    "    \"Pd\": 49500,\"Ag\": 521,\"Cd\": 2.73,\"In\": 167,\n",
    "    \"Sn\": 18.7,\"Sb\": 5.79,\"Te\": 63.5,\"I\": 35,\n",
    "    \"Xe\": 1800,\"Cs\": 61800,\"Ba\": 0.275,\"La\": 4.92,\n",
    "    \"Ce\": 4.71,\"Pr\": 103,\"Nd\": 57.5,\"Pm\": 460000,\n",
    "    \"Sm\": 13.9,\"Eu\": 31.4,\"Gd\": 28.6,\"Tb\": 658,\n",
    "    \"Dy\": 307,\"Ho\": 57.1,\"Er\": 26.4,\"Tm\": 3000,\n",
    "    \"Yb\": 17.1,\"Lu\": 643,\"Hf\": 900,\"Ta\": 312,\n",
    "    \"W\": 35.3,\"Re\": 4150,\"Os\": 12000,\"Ir\": 56200,\n",
    "    \"Pt\": 27800,\"Hg\": 30.2,\"Tl\": 4200,\"Pb\": 2,\n",
    "    \"Bi\": 6.36,\"Po\": 49200000000000,\"Ac\": 29000000000000,\"Th\": 287,\n",
    "    \"Pa\": 280000,\"U\": 101,\"Np\": 660000,\"Pu\": 6490000,\n",
    "    \"Am\": 750000,\"Cm\": 160000000000,\"Bk\": 185000000000,\"Cf\": 185000000000,\n",
    "}\n",
    "\n",
    "# peso atômico em gramas por mol\n",
    "peso_atomico = {\n",
    "    \"H\": 1.008,\"He\": 4.002602,\"Li\": 6.94,\"Be\": 9.0121831,\n",
    "    \"B\": 10.81,\"C\": 12.011,\"N\": 14.007,\"O\": 15.999,\n",
    "    \"F\": 18.998403163,\"Ne\": 20.1797,\"Na\": 22.98976928,\"Mg\": 24.305,\n",
    "    \"Al\": 26.9815385,\"Si\": 28.085,\"P\": 30.973761998,\"S\": 32.06,\n",
    "    \"Cl\": 35.45,\"Ar\": 39.948,\"K\": 39.0983,\"Ca\": 40.078,\n",
    "    \"Sc\": 44.955908,\"Ti\": 47.867,\"V\": 50.9415,\"Cr\": 51.9961,\n",
    "    \"Mn\": 54.938044,\"Fe\": 55.845,\"Co\": 58.933194,\"Ni\": 58.6934,\n",
    "    \"Cu\": 63.546,\"Zn\": 65.38,\"Ga\": 69.723,\"Ge\": 72.63,\n",
    "    \"As\": 74.921595,\"Se\": 78.971,\"Br\": 79.904,\"Kr\": 83.798,\n",
    "    \"Rb\": 85.4678,\"Sr\": 87.62,\"Y\": 88.90584,\"Nb\": 92.90637,\n",
    "    \"Mo\": 95.95,\"Tc\": 97.90721,\"Ru\": 101.07,\"Rh\": 102.9055,\n",
    "    \"Pd\": 106.42,\"Ag\": 107.8682,\"Cd\": 112.414,\"In\": 114.818,\n",
    "    \"Sn\": 118.71,\"Sb\": 121.76,\"Te\": 127.6,\"I\": 126.90447,\n",
    "    \"Xe\": 131.293,\"Cs\": 132.90545196,\"Ba\": 137.327,\"La\": 138.90547,\n",
    "    \"Ce\": 140.116,\"Pr\": 140.90766,\"Nd\": 144.242,\"Pm\": 144.91276,\n",
    "    \"Sm\": 150.36,\"Eu\": 151.964,\"Gd\": 157.25,\"Tb\": 158.92535,\n",
    "    \"Dy\": 162.5,\"Ho\": 164.93033,\"Er\": 167.259,\"Tm\": 168.93422,\n",
    "    \"Yb\": 173.045,\"Lu\": 174.9668,\"Hf\": 178.49,\"Ta\": 180.94788,\n",
    "    \"W\": 183.84,\"Re\": 186.207,\"Os\": 190.23,\"Ir\": 192.217,\n",
    "    \"Pt\": 195.084,\"Hg\": 200.592,\"Tl\": 204.38,\"Pb\": 207.2,\n",
    "    \"Bi\": 208.9804,\"Po\": 209.0,\"Ac\": 227.0,\"Th\": 232.0377,\n",
    "    \"Pa\": 231.03588,\"U\": 238.02891,\"Np\": 237.0,\"Pu\": 244.0,\n",
    "    \"Am\": 243.0,\"Cm\": 247.0,\"Bk\": 247.0,\"Cf\": 251.0,\n",
    "}"
   ]
  },
  {
   "cell_type": "markdown",
   "metadata": {},
   "source": [
    "### Introdução"
   ]
  },
  {
   "cell_type": "markdown",
   "metadata": {},
   "source": [
    "Esse problema segue a mesma lógica da Fera Formidável 13, sendo também um problema de satisfação de restrições  (ou *constraint satisfaction problem*, CSP) [1], onde estamos tentando maximizar o preço e minimizar a massa mas as variáveis estão limitadas de maneira que indivíduos válidos devem seguir as regras específicas. \n",
    "\n",
    "Pela semelhança com o problema da Fera passada, aqui quase todos os operadores são iguais. A única diferença é a função objetivo, que deverá ser atualizada para levar em conta duas características: o custo e a massa molar da liga. "
   ]
  },
  {
   "cell_type": "markdown",
   "metadata": {},
   "source": [
    "### Resolução"
   ]
  },
  {
   "cell_type": "markdown",
   "metadata": {},
   "source": [
    "Começamos importando as funções que serão utilizadas:"
   ]
  },
  {
   "cell_type": "code",
   "execution_count": 2,
   "metadata": {},
   "outputs": [],
   "source": [
    "from pprint import pprint\n",
    "from functools import partial\n",
    "from random import seed\n",
    "\n",
    "from funcoes_feras import populacao_liga as cria_populacao\n",
    "from funcoes_feras import funcao_objetivo_pop_liga_leve\n",
    "funcao_objetivo = partial(funcao_objetivo_pop_liga_leve, precos=preco, peso_atomico=peso_atomico)\n",
    "from funcoes_feras import selecao_torneio_max as funcao_selecao\n",
    "from funcoes_feras import cruzamento_ponto_simples_liga as funcao_cruzamento\n",
    "from funcoes_feras import mutacao_troca_liga as funcao_mutacao_1\n",
    "from funcoes_feras import mutacao_simples_liga\n",
    "funcao_mutacao_2 = partial(mutacao_simples_liga, elementos=preco)\n",
    "from funcoes_feras import mutacao_distribuicao_valores_liga as funcao_mutacao_3"
   ]
  },
  {
   "cell_type": "markdown",
   "metadata": {},
   "source": [
    "Os parâmetros para o algoritmo genético serão os seguintes:"
   ]
  },
  {
   "cell_type": "code",
   "execution_count": 3,
   "metadata": {},
   "outputs": [],
   "source": [
    "SEMENTE_ALEATORIA = 42\n",
    "seed(SEMENTE_ALEATORIA)\n",
    "\n",
    "TAMANHO_POPULACAO = 100\n",
    "NUM_GERACOES = 500\n",
    "CHANCE_DE_CRUZAMENTO = 0.5\n",
    "CHANCE_DE_MUTACAO = 0.025\n",
    "TAMANHO_TORNEIO = 3"
   ]
  },
  {
   "cell_type": "markdown",
   "metadata": {},
   "source": [
    "Criação da população (mesma função da Fera Formidável 4.13)."
   ]
  },
  {
   "cell_type": "code",
   "execution_count": 4,
   "metadata": {},
   "outputs": [
    {
     "name": "stdout",
     "output_type": "stream",
     "text": [
      "[{'Be': 21.588372456000513, 'P': 10.379835064413705, 'Po': 68.03179247958579},\n",
      " {'Ar': 67.95675829675244, 'Np': 15.02159538297036, 'Si': 17.021646320277192},\n",
      " {'B': 69.43676680503879, 'Ba': 23.030469542725232, 'Ir': 7.532763652235979},\n",
      " {'Be': 15.59081273300643, 'Dy': 52.705830349782104, 'Hg': 31.703356917211465},\n",
      " {'Cm': 23.73745287345922, 'Cs': 32.2163019786601, 'Lu': 44.04624514788068},\n",
      " {'Cm': 40.440468649959435, 'H': 40.92222384304772, 'Sc': 18.637307506992848},\n",
      " {'Ni': 12.883396687312572, 'Rh': 12.458438466106637, 'Si': 74.65816484658079},\n",
      " {'Hg': 16.963293528427705, 'Pd': 73.60590322832232, 'Se': 9.430803243249983},\n",
      " {'S': 27.956440854592522, 'Sn': 60.34554230873853, 'Yb': 11.698016836668945},\n",
      " {'Bi': 54.074932346824774, 'Cd': 15.613276770632211, 'Pb': 30.311790882543022},\n",
      " {'C': 70.71080896703882, 'Pa': 24.004126121809872, 'Zn': 5.285064911151309},\n",
      " {'Al': 44.01338065235101, 'Sn': 27.358863083291155, 'Zn': 28.62775626435783},\n",
      " {'Cd': 35.19800951933932, 'In': 23.075056954039212, 'Sc': 41.72693352662146},\n",
      " {'Ac': 33.81145087001194, 'Cm': 11.069213314176608, 'Pu': 55.11933581581145},\n",
      " {'Ge': 17.338743410829494, 'Sc': 38.369138581825666, 'Yb': 44.29211800734484},\n",
      " {'Am': 26.510552648897445, 'Po': 23.667289787472864, 'Ta': 49.82215756362969},\n",
      " {'B': 14.923362350365196, 'O': 73.42889306555323, 'Zn': 11.647744584081579},\n",
      " {'F': 79.49124825017685, 'Ni': 8.306871730471645, 'W': 12.201880019351506},\n",
      " {'Tb': 11.301190266111568, 'Te': 8.50074165351873, 'Th': 80.19806808036971},\n",
      " {'Ar': 33.088520467479356, 'K': 25.963338153988595, 'Se': 40.94814137853206},\n",
      " {'Ba': 10.216239582037872, 'Os': 8.468815311751587, 'Se': 81.31494510621054},\n",
      " {'Ar': 37.53729408042203, 'Cu': 46.94884596561864, 'Ho': 15.513859953959326},\n",
      " {'Bi': 27.81413017332541, 'Ca': 53.58739968026632, 'P': 18.59847014640827},\n",
      " {'F': 57.35849123631198, 'Pt': 37.43763935305562, 'Sb': 5.203869410632393},\n",
      " {'As': 5.135863259950187, 'Hf': 16.69786205011748, 'Tm': 78.16627468993234},\n",
      " {'P': 68.82461296528683, 'Pu': 21.275375638411454, 'Yb': 9.900011396301721},\n",
      " {'P': 26.79913446006026, 'Rh': 41.955046306873925, 'Sr': 31.245819233065816},\n",
      " {'Dy': 9.452979837118072, 'Se': 48.15294234136764, 'V': 42.39407782151429},\n",
      " {'Bi': 48.151344968098904, 'Po': 38.524492952133414, 'Y': 13.324162079767685},\n",
      " {'In': 86.04747855054774, 'Lu': 5.30658096010275, 'Sc': 8.64594048934951},\n",
      " {'H': 46.53148518246057, 'Pt': 9.862723875715758, 'Tc': 43.60579094182367},\n",
      " {'Cd': 9.923639152005942, 'Ga': 14.768547354128671, 'Nb': 75.30781349386538},\n",
      " {'F': 5.874455373737575, 'Gd': 5.99686266368901, 'Na': 88.12868196257341},\n",
      " {'Cl': 85.48213777492423, 'Pa': 5.746020850290848, 'Sm': 8.771841374784927},\n",
      " {'Ba': 5.215331905176072, 'Hg': 7.813821084190245, 'Tm': 86.97084701063369},\n",
      " {'Am': 31.49588476057607, 'Cf': 5.283782596896373, 'Fe': 63.22033264252756},\n",
      " {'Ce': 9.680360591510919, 'In': 8.852442213838714, 'Th': 81.46719719465037},\n",
      " {'Cu': 38.099852946216494, 'F': 28.16287427124979, 'Ge': 33.73727278253371},\n",
      " {'Cu': 29.654945702911775, 'Ir': 64.73383298335527, 'Zn': 5.611221313732951},\n",
      " {'F': 6.128432971564052, 'O': 81.96070110552088, 'Zn': 11.910865922915058},\n",
      " {'Ga': 36.55923677225451, 'Ho': 34.770195790759004, 'Ne': 28.67056743698649},\n",
      " {'Cl': 13.753249040566649, 'Lu': 53.97799022627649, 'Re': 32.26876073315687},\n",
      " {'Mn': 31.25229477084605, 'Sm': 13.017692701809988, 'Xe': 55.730012527343966},\n",
      " {'Ag': 44.697096783117374, 'Ba': 38.0292526458461, 'Xe': 17.273650571036526},\n",
      " {'Ac': 50.77980797791374, 'Np': 13.365519047916505, 'Th': 35.85467297416975},\n",
      " {'Ge': 36.86405201939919, 'Rh': 21.28515613204059, 'Si': 41.85079184856022},\n",
      " {'Ar': 28.67633729668994, 'Ba': 20.319046351033933, 'Cr': 51.00461635227613},\n",
      " {'Ce': 55.00500843003654, 'Hf': 31.672749672827436, 'Ne': 13.32224189713603},\n",
      " {'He': 10.31182233180995, 'Lu': 83.74119355569084, 'Mg': 5.946984112499209},\n",
      " {'Gd': 10.966824370209068, 'Ti': 45.91546552753836, 'Xe': 43.11771010225257},\n",
      " {'O': 5.183207159871246, 'Sn': 56.70247150652424, 'Ti': 38.114321333604515},\n",
      " {'Ba': 11.95019299661162, 'Nd': 64.2102778060138, 'Rb': 23.83952919737457},\n",
      " {'Cf': 40.34712965796227, 'Pa': 13.285800351419724, 'Ta': 46.367069990618006},\n",
      " {'Ni': 67.53766019706869, 'O': 6.369249684066972, 'Os': 26.09309011886434},\n",
      " {'Mo': 54.655095529012556, 'N': 22.571705723497786, 'O': 22.773198747489662},\n",
      " {'O': 8.066718161874462, 'Sc': 5.267075059797257, 'Tm': 86.66620677832829},\n",
      " {'Cr': 10.776673386939365, 'F': 73.27618411908684, 'Pt': 15.9471424939738},\n",
      " {'I': 25.928304562033112, 'S': 43.09185013723253, 'W': 30.979845300734354},\n",
      " {'Cs': 17.662018476746965, 'Na': 21.461262543088626, 'Pb': 60.87671898016441},\n",
      " {'Co': 24.25311677719654, 'Mo': 61.92670785543548, 'Se': 13.820175367367982},\n",
      " {'Cl': 24.534513225984185, 'Se': 62.09366895159756, 'Te': 13.371817822418263},\n",
      " {'He': 5.071166400007826, 'Mo': 43.95426942257982, 'Ne': 50.97456417741236},\n",
      " {'Al': 23.118116542698434, 'Ne': 22.737103232164383, 'Yb': 54.14478022513718},\n",
      " {'F': 13.453683894271077, 'Ge': 50.13651356292378, 'Pd': 36.40980254280514},\n",
      " {'Bk': 37.585986666581086, 'Lu': 56.99261008670576, 'Y': 5.4214032467131545},\n",
      " {'He': 17.57430253224652, 'Th': 61.7683723155696, 'Tm': 20.657325152183876},\n",
      " {'Ar': 11.895205306059964, 'Pa': 27.47960332640585, 'Si': 60.625191367534185},\n",
      " {'Br': 53.19162549422258, 'Ca': 17.859091431856413, 'Hf': 28.949283073921013},\n",
      " {'Co': 13.207199707954604, 'Pu': 27.882573786813623, 'Rh': 58.910226505231776},\n",
      " {'As': 37.680832112647856, 'Gd': 12.845369755582341, 'N': 49.473798131769804},\n",
      " {'C': 12.410632137206782, 'H': 54.237062081360726, 'Kr': 33.35230578143249},\n",
      " {'Ce': 26.809228554647348, 'Sc': 21.297935649609396, 'Se': 51.89283579574326},\n",
      " {'He': 85.32932981896433, 'Ne': 6.443145429848613, 'P': 8.227524751187064},\n",
      " {'B': 10.869674732465384, 'Ca': 75.94057669031142, 'Lu': 13.189748577223202},\n",
      " {'Cl': 56.745669556663366, 'K': 8.555452944352917, 'La': 34.69887749898372},\n",
      " {'Ag': 23.02342957317283, 'C': 62.975668506399, 'Co': 14.000901920428163},\n",
      " {'Ag': 87.77614692416957, 'Ta': 6.666728090807606, 'Xe': 5.557124985022824},\n",
      " {'Ga': 79.92037739638258, 'Sc': 5.249837173650425, 'V': 14.829785429967004},\n",
      " {'Ru': 78.44544241189875, 'U': 7.186707920228741, 'Xe': 14.367849667872505},\n",
      " {'Br': 14.188128244251354, 'Cm': 14.691275460448296, 'Sc': 71.12059629530034},\n",
      " {'Cu': 12.176191191810144, 'Fe': 13.413947332450888, 'Sm': 74.40986147573896},\n",
      " {'Cu': 71.96096716002822, 'Nb': 7.011476949623379, 'Zn': 21.027555890348406},\n",
      " {'F': 7.028849475610457, 'Kr': 5.785576680278847, 'Ru': 87.18557384411069},\n",
      " {'Ac': 62.75904006062241, 'Ho': 27.98213995110345, 'I': 9.25881998827414},\n",
      " {'Be': 7.730152014843089, 'P': 12.721583001234293, 'Ru': 79.54826498392262},\n",
      " {'B': 47.85202856898132, 'Os': 14.214216513250443, 'Se': 37.93375491776824},\n",
      " {'Hg': 6.1849929150360055, 'La': 5.154959893053855, 'Mo': 88.66004719191014},\n",
      " {'As': 50.80743775760796, 'Mn': 40.4197068767674, 'Re': 8.772855365624643},\n",
      " {'Er': 66.15154992731186, 'Pu': 11.154090684906308, 'Yb': 22.694359387781834},\n",
      " {'Cd': 7.4713930857579385, 'Fe': 50.86832794611817, 'U': 41.66027896812389},\n",
      " {'Mo': 30.04627694513492, 'Pb': 8.56578757229381, 'Ru': 61.387935482571265},\n",
      " {'Dy': 14.235576414229472, 'Nb': 24.078526736783502, 'Y': 61.68589684898702},\n",
      " {'Cm': 15.819462920028023, 'Hf': 47.991602227392484, 'Sr': 36.18893485257949},\n",
      " {'Np': 14.835412714424844, 'Sn': 57.31876785586734, 'V': 27.845819429707817},\n",
      " {'H': 31.056524158259265, 'Hf': 29.387665933858813, 'Y': 39.55580990788192},\n",
      " {'Hg': 30.450769122301693, 'Os': 32.391184527605745, 'Th': 37.15804635009256},\n",
      " {'Ho': 9.425041014310182, 'Ni': 45.35413318339709, 'Np': 45.22082580229273},\n",
      " {'Na': 25.463958449562924, 'Pa': 45.41419712602974, 'Ti': 29.121844424407332},\n",
      " {'Mg': 8.840935357516102, 'Pb': 74.56599448561646, 'Ru': 16.593070156867444},\n",
      " {'Cu': 19.019337427006462, 'Nb': 7.4228165340109395, 'Np': 73.5578460389826}]\n"
     ]
    }
   ],
   "source": [
    "populacao = cria_populacao(TAMANHO_POPULACAO, preco)\n",
    "\n",
    "pprint(populacao)"
   ]
  },
  {
   "cell_type": "markdown",
   "metadata": {},
   "source": [
    "Em seguida, são desenvolvidas as gerações do algoritmo genético. A única alteração em relação à Fera Formidável 13 foi na função objetivo: agora o fitness encontrado será `custo/massa_molar`, afinal, estamos tentando maximizar o custo e minimizar a massa molar (através de um único operador de seleção, por torneio máximo). Observe, porém, que as escalas de custo e de peso atômico são muito diferentes, e por isso é necessário normalizar os valores no cálculo do fitness para que o custo não comece a dominar quando o algoritmo encontrar os átomos caros.\n",
    "\n",
    "Como ambas escalas são positivas, realizei uma normalização de máximo absoluto."
   ]
  },
  {
   "cell_type": "code",
   "execution_count": 5,
   "metadata": {},
   "outputs": [],
   "source": [
    "hall_da_fama = []\n",
    "\n",
    "for n in range(NUM_GERACOES):\n",
    "    \n",
    "    # Seleção\n",
    "    fitness = funcao_objetivo(populacao)        \n",
    "    selecionados = funcao_selecao(populacao, fitness, TAMANHO_TORNEIO)\n",
    "    \n",
    "    # Cruzamento\n",
    "    proxima_geracao = []\n",
    "    for pai, mae in zip(selecionados[::2], selecionados[1::2]):\n",
    "        individuo1, individuo2 = funcao_cruzamento(pai, mae, CHANCE_DE_CRUZAMENTO)\n",
    "        proxima_geracao.append(individuo1)\n",
    "        proxima_geracao.append(individuo2)\n",
    "    \n",
    "    # Mutação\n",
    "    funcao_mutacao_1(proxima_geracao, CHANCE_DE_MUTACAO)\n",
    "    funcao_mutacao_2(proxima_geracao, CHANCE_DE_MUTACAO)\n",
    "    funcao_mutacao_3(proxima_geracao, CHANCE_DE_MUTACAO)\n",
    "    \n",
    "    # Atualização do hall da fama\n",
    "    fitness = funcao_objetivo(proxima_geracao)\n",
    "        \n",
    "    maior_fitness = max(fitness)\n",
    "    indice = fitness.index(maior_fitness)\n",
    "    hall_da_fama.append(proxima_geracao[indice])    \n",
    "    \n",
    "    # Encerramento\n",
    "    populacao = proxima_geracao"
   ]
  },
  {
   "cell_type": "code",
   "execution_count": 6,
   "metadata": {},
   "outputs": [
    {
     "name": "stdout",
     "output_type": "stream",
     "text": [
      "\n",
      "Melhor individuo obtido por algoritmos genéticos:\n",
      "{'H': 5.1214746028899185, 'Po': 89.87852092604874, 'He': 5.000004471061317} com preço: 4.42 10**12 USD e massa molar: 188.10 g/mol\n",
      "\n"
     ]
    }
   ],
   "source": [
    "fitness = funcao_objetivo(hall_da_fama)\n",
    "maior_fitness = max(fitness)\n",
    "indice = fitness.index(maior_fitness)\n",
    "melhor_individuo_observado = hall_da_fama[indice]\n",
    "\n",
    "custo = 0\n",
    "massa_molar = 0\n",
    "for elemento in melhor_individuo_observado.keys():\n",
    "    # massa do elemento em kg * preco do elemento por kg\n",
    "    custo += melhor_individuo_observado[elemento]*preco[elemento]/1000\n",
    "    # fracao massica do elemento * seu peso atomico\n",
    "    massa_molar += melhor_individuo_observado[elemento]*peso_atomico[elemento]/100\n",
    "\n",
    "print()\n",
    "print(\"Melhor individuo obtido por algoritmos genéticos:\")\n",
    "print(melhor_individuo_observado, f\"com preço: {custo/10**12:0.2f} 10**12 USD e massa molar: {massa_molar:0.2f} g/mol\")\n",
    "print()"
   ]
  },
  {
   "cell_type": "markdown",
   "metadata": {},
   "source": [
    "Comparando com os resultados da Fera Formidável 13, onde o melhor candidato foi (próximo de) `{'Po':90,'Ac':5,'Bk ou Cf':5}`, podemos entender que a conclusão faz sentido: o elemento polônio é de longe o mais caro de todos, segundo a tabela, portanto ele acabará dominando o quesito preço (pois, claramente, o material mais caro possível seria ter $100 ~g$ de polônio, sem a formação de ligas), o que faz os outros elementos da liga cumprirem o outro objetivo. Por estarmos penalizando materiais com massa molar alta, o algoritmo evita Ac, Bk e Cf, que possuem peso atômico maior que do próprio Po (além de não se equipararem em preço), o que o leva a materiais mais leves e baratos, sendo H e He os melhores candidatos no quesito massa.\n",
    "\n",
    "Podemos observar isso acontecendo conforme o desenvolvimento do hall da fama. Veja esses exemplos dos melhores indivíduos a cada 20 gerações:"
   ]
  },
  {
   "cell_type": "code",
   "execution_count": 7,
   "metadata": {},
   "outputs": [
    {
     "data": {
      "text/plain": [
       "[{'Ni': 12.883396687312572, 'Y': 19.94768866945654, 'Ti': 67.16891464323089},\n",
       " {'H': 8.878631813871497, 'Po': 65.12790982024273, 'He': 25.99345836588577},\n",
       " {'H': 18.66186542470995, 'He': 6.05392071541929, 'Ba': 75.28421385987075},\n",
       " {'H': 7.756749809049353, 'Po': 86.94502772278584, 'Si': 5.29822246816479},\n",
       " {'H': 7.97064643069611, 'He': 5.084325846518032, 'Yb': 86.94502772278584},\n",
       " {'H': 5.111986921240543, 'Po': 89.87852092604874, 'He': 5.009492152710692},\n",
       " {'H': 5.113505235950924, 'Po': 89.87852092604874, 'He': 5.007973838000312},\n",
       " {'H': 5.113505235950924, 'Po': 89.87852092604874, 'He': 5.007973838000312},\n",
       " {'H': 5.113505235950924, 'Po': 89.87852092604874, 'He': 5.007973838000312},\n",
       " {'H': 5.113505235950924, 'Po': 89.87852092604874, 'He': 5.007973838000312},\n",
       " {'H': 5.113505235950924, 'Po': 89.87852092604874, 'He': 5.007973838000312},\n",
       " {'H': 5.1167621175511595, 'Po': 89.87852092604874, 'He': 5.004716956400076},\n",
       " {'H': 5.119144403744217, 'Po': 89.87852092604874, 'He': 5.002334670207018},\n",
       " {'H': 5.120974489309643, 'Po': 89.87852092604874, 'He': 5.000504584641592},\n",
       " {'H': 5.120974489309643, 'Po': 89.87852092604874, 'He': 5.000504584641592},\n",
       " {'H': 5.120974489309643, 'Po': 89.87852092604874, 'He': 5.000504584641592},\n",
       " {'H': 5.121091387622998, 'Po': 89.87852092604874, 'He': 5.000387686328237},\n",
       " {'H': 5.121091387622998, 'Po': 89.87852092604874, 'He': 5.000387686328237},\n",
       " {'H': 5.121091387622998, 'Po': 89.87852092604874, 'He': 5.000387686328237},\n",
       " {'H': 5.121091387622998, 'Po': 89.87852092604874, 'He': 5.000387686328237},\n",
       " {'H': 5.121091387622998, 'Po': 89.87852092604874, 'He': 5.000387686328237},\n",
       " {'H': 5.121091387622998, 'Po': 89.87852092604874, 'He': 5.000387686328237},\n",
       " {'H': 5.10821160315592, 'Po': 89.87852092604874, 'He': 5.0132674707953155},\n",
       " {'H': 55.279928273524845, 'Po': 39.72006725541381, 'He': 5.000004471061317},\n",
       " {'H': 5.1214746028899185, 'Po': 89.87852092604874, 'He': 5.000004471061317}]"
      ]
     },
     "execution_count": 7,
     "metadata": {},
     "output_type": "execute_result"
    }
   ],
   "source": [
    "hall_da_fama[::20]"
   ]
  },
  {
   "cell_type": "markdown",
   "metadata": {},
   "source": [
    "Claramente, assim que o polônio aparece, ele tende a ficar, e eventualmente os outros elementos são selecionados para sobrar H e He.\n",
    "\n",
    "Seguindo essa lógica, podemos comparar um erro relativo à esse candidato hipotético que teria a maior quantidade possível de Po, e as menores de H e He:"
   ]
  },
  {
   "cell_type": "code",
   "execution_count": 8,
   "metadata": {},
   "outputs": [
    {
     "name": "stdout",
     "output_type": "stream",
     "text": [
      "Erro relativo da massa molar: 0.1341%\n"
     ]
    }
   ],
   "source": [
    "massa_molar_real = (peso_atomico[\"Po\"]*90+peso_atomico[\"H\"]*5+peso_atomico[\"He\"]*5)/100\n",
    "erro_relativo_massa_molar = abs(massa_molar-massa_molar_real)/massa_molar_real\n",
    "\n",
    "print(f\"Erro relativo da massa molar: {erro_relativo_massa_molar:0.4%}\")"
   ]
  },
  {
   "cell_type": "markdown",
   "metadata": {},
   "source": [
    "(Sendo que aqui o erro relativo poderia ser da massa molar ou do custo, visto que a diferença entre eles é desprezível)\n",
    "    \n",
    "Ou seja, o erro é menor que 1%, de modo que a solução encontrada funciona bem, mesmo não sendo perfeita. Em problemas reais, pode não ser tão simples identificar a solução perfeita sem testar todas as possibilidades com busca exaustiva (o que muitas vezes se torna computacionalmente impossível)."
   ]
  },
  {
   "cell_type": "markdown",
   "metadata": {},
   "source": [
    "### Conclusão"
   ]
  },
  {
   "cell_type": "markdown",
   "metadata": {},
   "source": [
    "Novamente, o algoritmo genético foi eficiente em encontrar um bom candidato para resolver o problema, apesar de não ser garantidamente o melhor candidato possível. A normalização dos dados na função objetivo foi importante para dar o mesmo peso aos dois objetivos (maior valor e menor massa), evitando que as diferentes escalas fizessem um dominar sobre o outro no cálculo da função objetivo. Destaca-se, apesar disso, que a implementação da normalização dentro da função objetivo como fiz não é ideal em questão de otimização, seria mais eficiente normalizar previamente os dicionários de dados e rodar as gerações com esses dados já normalizados, mas dessa maneira em que está implementado, o usuário pode apenas inserir quaisquer dados que possua sem se preocupar com a etapa extra de normalização."
   ]
  },
  {
   "cell_type": "markdown",
   "metadata": {},
   "source": [
    "### Referências"
   ]
  },
  {
   "cell_type": "markdown",
   "metadata": {},
   "source": [
    "[1] EYAL WIRSANSKY. Hands-On Genetic Algorithms with Python: Applying genetic algorithms to solve real-world deep learning and artificial intelligence problems, 2020. Chapter 5: Constraint Satisfaction."
   ]
  }
 ],
 "metadata": {
  "kernelspec": {
   "display_name": "base",
   "language": "python",
   "name": "python3"
  },
  "language_info": {
   "codemirror_mode": {
    "name": "ipython",
    "version": 3
   },
   "file_extension": ".py",
   "mimetype": "text/x-python",
   "name": "python",
   "nbconvert_exporter": "python",
   "pygments_lexer": "ipython3",
   "version": "3.11.5"
  }
 },
 "nbformat": 4,
 "nbformat_minor": 2
}
