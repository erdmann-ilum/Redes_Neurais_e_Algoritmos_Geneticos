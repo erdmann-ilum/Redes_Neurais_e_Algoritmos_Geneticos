{
 "cells": [
  {
   "cell_type": "markdown",
   "metadata": {},
   "source": [
    "<img src=\"https://pages.cnpem.br/capsuladaciencia/wp-content/uploads/sites/155/2022/10/Ilum.png\" alt=\"Ilum - Escola de Ciência\" width=\"200\"/>\n",
    "\n",
    "**Redes Neurais e Algoritmos Genéticos 2025**\n",
    "\n",
    "**Prof. Dr. Daniel R. Cassar**\n",
    "\n",
    "Rafael Dalacorte Erdmann (24017)"
   ]
  },
  {
   "cell_type": "markdown",
   "metadata": {},
   "source": [
    "## Fera Formidável 9: A senha de tamanho variável"
   ]
  },
  {
   "cell_type": "markdown",
   "metadata": {},
   "source": [
    "**Objetivo:** Resolver o problema da senha de forma que você não forneça a informação do tamanho da senha para a função que gera a população. Considere que a senha pode ser uma string de 1 até 30 caracteres.\n",
    "\n",
    "**Dica:** A função objetivo terá que quantificar em sua métrica tanto se o candidato acertou as letras quanto se acertou o tamanho da senha.\n",
    "\n",
    "**Dica 2:** Você pode criar diferentes estratégias de mutação, não precisa ser apenas uma! Quem sabe uma função de mutação pode alterar letras e a outra pode alterar o tamanho da senha? Ver o exercício “Praticamente um X-man!”.\n",
    "\n",
    "**Dica 3:** Observe que você terá que pensar um pouco sobre como fará o cruzamento no caso de senhas de tamanhos diferentes. Quem sabe tenha que fazer alguma consideração adicional sobre quais são os valores possíveis para o ponto de corte…"
   ]
  },
  {
   "cell_type": "markdown",
   "metadata": {},
   "source": [
    "### Introdução"
   ]
  },
  {
   "cell_type": "markdown",
   "metadata": {},
   "source": [
    "O problema da senha não é nada mais que um problema de caixas não-binárias [1], onde há tantas caixas quanto dígitos da senha e dentro de cada caixa pode estar um caractere dentre os possíveis. Além disso, a função objetivo é a semelhança entre a senha do candidato e a senha real (ou melhor, a distância entre as duas, que deve ser minimizada). Nessa Fera, mais especificamente, o número de caixas correto não é conhecido inicialmente pelos indivíduos da população, que deverão encontrá-lo juntamente com os caracteres corretos ao longo das gerações.\n",
    "\n",
    "Para resolvê-lo, utilizaremos um algoritmo genético com operadores pensados especificamente para o problema."
   ]
  },
  {
   "cell_type": "markdown",
   "metadata": {},
   "source": [
    "### Resolução"
   ]
  },
  {
   "cell_type": "markdown",
   "metadata": {},
   "source": [
    "Para resolver o problema, foi necessário editar alguns operadores: cria_população, funcao_objetivo, funcao_cruzamento e funcao_mutacao. Cada um será explicado adiante, após a importação das funções e definição dos parâmetros do problema."
   ]
  },
  {
   "cell_type": "code",
   "execution_count": 145,
   "metadata": {},
   "outputs": [],
   "source": [
    "from random import seed \n",
    "from string import ascii_lowercase, ascii_uppercase, digits\n",
    "\n",
    "from funcoes_feras import populacao_senha_variavel as cria_populacao\n",
    "from funcoes_feras import funcao_objetivo_pop_senha_variavel as funcao_objetivo\n",
    "from funcoes_feras import selecao_torneio_min as funcao_selecao\n",
    "from funcoes_feras import cruzamento_ponto_simples_variavel as funcao_cruzamento\n",
    "from funcoes_feras import mutacao_simples as funcao_mutacao1\n",
    "from funcoes_feras import mutacao_tamanho as funcao_mutacao2"
   ]
  },
  {
   "cell_type": "code",
   "execution_count": 146,
   "metadata": {},
   "outputs": [],
   "source": [
    "SENHA_ALEATORIA = 42\n",
    "seed(SENHA_ALEATORIA)\n",
    "\n",
    "SENHA = list(\"ResponsavelPeloQueCativas43\")\n",
    "CARACTERES_POSSIVEIS = ascii_lowercase + ascii_uppercase + digits\n",
    "\n",
    "TAMANHO_MIN_SENHA = 1\n",
    "TAMANHO_MAX_SENHA = 30\n",
    "\n",
    "TAMANHO_POPULACAO = 100\n",
    "CHANCE_DE_CRUZAMENTO = 0.5\n",
    "CHANCE_DE_MUTACAO = 0.025\n",
    "TAMANHO_TORNEIO = 3"
   ]
  },
  {
   "cell_type": "markdown",
   "metadata": {},
   "source": [
    "#### População\n",
    "\n",
    "Na geração da população inicial, foi necessário alterar a entrada de tamanho de senha para dois argumentos diferentes: o tamanho mínimo e máximo da senha (nesse problema definidos como 1 e 30, respectivamente). Com isso, o módulo `random` pode ser utilizado para gerar uma senha com tamanho incluído nesse intervalo, como 3 dígitos, 30 dígitos, etc."
   ]
  },
  {
   "cell_type": "code",
   "execution_count": 147,
   "metadata": {},
   "outputs": [
    {
     "name": "stdout",
     "output_type": "stream",
     "text": [
      "0 hbVrpoiVgRV5IfLBcbfno\n",
      "1 MbJmTPSIAoCLrZ3aW\n",
      "2 kSBvrjn9Wvgfygw2wMqZcUDIh7\n",
      "3 fJs1ON43xKmTe\n",
      "4 Qo\n",
      "5 sf2o3gyrDO1xkxwnQrS7RPeMO\n",
      "6 IUpkDy\n",
      "7 7OSJoRu1X\n",
      "8 do0cZuzren68K4TunPFz46PDj\n",
      "9 ipVJIqVLB\n",
      "10 LzxoiGFfWd3hjOkYRBMeyyMDHqJ38\n",
      "11 R\n",
      "12 hR4IWrXPvhsBkDa9U4UqGWlG\n",
      "13 g3Ot1OGMmjxWkI9X7H6aMuFbh7x41Z\n",
      "14 pdp4K8ffUF\n",
      "15 eWIXiiQE8JkqH3MB9n7IWUSmTtz\n",
      "16 PxC5HChpoevbLJoLoaeTOd\n",
      "17 e5c3veGp\n",
      "18 QFnIiU74K\n",
      "19 EpYEZAmggQBwBAD3UdR\n",
      "20 PgdzUvZ3gpmmICiBlrDp3\n",
      "21 eCZ32JgdPI1af7W2pkAFEn3z5dkyay\n",
      "22 7YYDsBS9U\n",
      "23 JQTFjmsn9dLVIdVuddLEG62Hkd\n",
      "24 f2leMeR3pzh84KpLM\n",
      "25 Nf\n",
      "26 QLKHu7qnQTupqz\n",
      "27 QPtDu\n",
      "28 W7eaDNKgeInGqi7w4e4pxskC1ITtNZ\n",
      "29 HaQ0Jt7Qg84iqh4gVJjrs\n",
      "30 nTvnRO2qGFq562dfOB1r\n",
      "31 av\n",
      "32 iOqkVCJTBJahe84S5jIc1xLJj\n",
      "33 ictx57Y3c5wnRp\n",
      "34 gwXJ43ANVj77p3kZZl4Abl\n",
      "35 7vY7AZQ3VZprkYSgy3c2Eom0\n",
      "36 Dwt0Y3oobQmzvr3e9XrwPGzR1Iv8bh\n",
      "37 qlL9qcgMBwUYuBMGhy5KmqcTBaH7Z\n",
      "38 RU8VVQmxBe8Q6vNuQ2\n",
      "39 U5tG\n",
      "40 QAuzSsJimA\n",
      "41 8yRV5lNKtzJ1atsnBYLMPu\n",
      "42 CCRnGEY59YVkQfs\n",
      "43 QONvf08WpRtoZmjbc\n",
      "44 EN2XeDA4\n",
      "45 KmTSyFzpjPSa5W3X4gXBo\n",
      "46 Z9SHDd\n",
      "47 p62hDiZDQHJMu8W5CN\n",
      "48 U5GB16JC5kV3ECqWp1OrXXHFOpr\n",
      "49 eTsprvu5IfijoyS\n",
      "50 TneAA\n",
      "51 IDAdn1Ay5XL\n",
      "52 b24WKyEa8wtWy2591AIVVIZ\n",
      "53 5oForBFbyvQRZzUk1D6i\n",
      "54 Ib6zLKQbfPBi3Dldqyun\n",
      "55 uvW4yrW81Aq1fEb\n",
      "56 Id8woPeX9PcWb8pm1bNjpiEQ\n",
      "57 K8nD\n",
      "58 qXxkMM9VThX0k9tgLb7tKR6\n",
      "59 z8TmeLS1OpgSX\n",
      "60 2RMZhYKYcw\n",
      "61 BQxeGPva2A0FgB9xO5\n",
      "62 DTjBlUH9PrNZ6IXEDB0ULru2p17\n",
      "63 r4C\n",
      "64 WDKNQyvb\n",
      "65 2ulFnwZqvr4MS4rJ\n",
      "66 H\n",
      "67 fpUAFJW\n",
      "68 SEPTFCYb\n",
      "69 soz\n",
      "70 ptQLxEJHwBVJvwSDrtqohUm\n",
      "71 hVI8WSlmnVE\n",
      "72 ULWHMsg1m\n",
      "73 oxltaTIirc\n",
      "74 Js\n",
      "75 8iO3WFg3aKsEECvl9dq83Eh\n",
      "76 ezFeKORdjjZK8tfphJWAMMYNoXH\n",
      "77 C6Ct3LBtKNdN9\n",
      "78 g8WnOnqQfkplJekaACSMEsco\n",
      "79 TsS3DeRo7q\n",
      "80 YOLQZ7mBhIoPj6r0jedkYtMV0K\n",
      "81 sChDStSz8rGIFCfMc4BVuMqbfo9R13\n",
      "82 L8bWR0rKcWWlEHPC6rl\n",
      "83 BO0FfEwAvuQg2kvASFs\n",
      "84 8z0WJcDfuquhXz3G0aQ3ID\n",
      "85 dmHxNWFOCWdnrJ\n",
      "86 7sC4S\n",
      "87 hbOMZpTktJaJAfo1\n",
      "88 hD8hP1jF7TsGTrA1EEpDJjym6MGV4i\n",
      "89 erXY2Av7YGr0asUt1LLQF3jCIEwv\n",
      "90 WIyD7u3mSpKyo2XAcu\n",
      "91 ET6ZyyQY0PjF9ciG9Lv3g32C\n",
      "92 H6Da\n",
      "93 jA3PjeEYqvNSzPf2v2R2Iy9u\n",
      "94 T4WF3IcNepOR6soVfBgWO\n",
      "95 3gCkSt5bcuYdswxBjpHAKRY\n",
      "96 klfN3y\n",
      "97 RpF6LjoDOqDqQa5ZD5sR\n",
      "98 keC8wLtO9BSqD2tmy2\n",
      "99 gpyKwKsSsb1QzraK\n"
     ]
    }
   ],
   "source": [
    "populacao = cria_populacao(TAMANHO_POPULACAO, TAMANHO_MIN_SENHA, TAMANHO_MAX_SENHA, CARACTERES_POSSIVEIS)\n",
    "\n",
    "for i in range(len(populacao)):\n",
    "    print (i, \"\".join(populacao[i]))"
   ]
  },
  {
   "cell_type": "markdown",
   "metadata": {},
   "source": [
    "#### Função Objetivo\n",
    "\n",
    "Como função objetivo, neste problema o algoritmo deve considerar tanto se as letras estão corretas quanto se o tamanho da senha também está. Para isso, a função objetivo do problema da senha tradicional foi utilizado como base, mas adicionando-se a distância entre o tamanho da senha candidata e da senha verdadeira. Nesta etapa, tentei normalizar as distâncias para que a distância das letras tivesse o mesmo peso que a distância do tamanho, mas para esse problema é notável que fica muito melhor manter a distância das letras com mais peso.\n",
    "\n",
    "Por quê? Pensemos na situação inversa: se a distância do tamanho for mais importante, o algoritmo primeiro encontrará o tamanho certo da senha, o que para uma senha de 25 dígitos significaria ter que continuar realizando cruzamentos e mutações em todas letras até que as 25 estivessem certas. Da maneira como o algoritmo aqui foi construído, ele tende a primeiro identificar as letras corretas e só então ir adicionando novos dígitos, o que restringe a região de busca, perdendo menos informação com mutações equivocadas, e agiliza o processo."
   ]
  },
  {
   "cell_type": "code",
   "execution_count": 148,
   "metadata": {},
   "outputs": [
    {
     "name": "stdout",
     "output_type": "stream",
     "text": [
      "0 326.00 hbVrpoiVgRV5IfLBcbfno\n",
      "1 420.00 MbJmTPSIAoCLrZ3aW\n",
      "2 494.00 kSBvrjn9Wvgfygw2wMqZcUDIh7\n",
      "3 330.00 fJs1ON43xKmTe\n",
      "4 36.00 Qo\n",
      "5 657.00 sf2o3gyrDO1xkxwnQrS7RPeMO\n",
      "6 108.00 IUpkDy\n",
      "7 245.00 7OSJoRu1X\n",
      "8 658.00 do0cZuzren68K4TunPFz46PDj\n",
      "9 262.00 ipVJIqVLB\n",
      "10 591.00 LzxoiGFfWd3hjOkYRBMeyyMDHqJ38\n",
      "11 26.00 R\n",
      "12 540.00 hR4IWrXPvhsBkDa9U4UqGWlG\n",
      "13 693.00 g3Ot1OGMmjxWkI9X7H6aMuFbh7x41Z\n",
      "14 283.00 pdp4K8ffUF\n",
      "15 797.00 eWIXiiQE8JkqH3MB9n7IWUSmTtz\n",
      "16 439.00 PxC5HChpoevbLJoLoaeTOd\n",
      "17 238.00 e5c3veGp\n",
      "18 273.00 QFnIiU74K\n",
      "19 494.00 EpYEZAmggQBwBAD3UdR\n",
      "20 389.00 PgdzUvZ3gpmmICiBlrDp3\n",
      "21 855.00 eCZ32JgdPI1af7W2pkAFEn3z5dkyay\n",
      "22 280.00 7YYDsBS9U\n",
      "23 618.00 JQTFjmsn9dLVIdVuddLEG62Hkd\n",
      "24 404.00 f2leMeR3pzh84KpLM\n",
      "25 30.00 Nf\n",
      "26 316.00 QLKHu7qnQTupqz\n",
      "27 95.00 QPtDu\n",
      "28 639.00 W7eaDNKgeInGqi7w4e4pxskC1ITtNZ\n",
      "29 590.00 HaQ0Jt7Qg84iqh4gVJjrs\n",
      "30 553.00 nTvnRO2qGFq562dfOB1r\n",
      "31 57.00 av\n",
      "32 636.00 iOqkVCJTBJahe84S5jIc1xLJj\n",
      "33 363.00 ictx57Y3c5wnRp\n",
      "34 594.00 gwXJ43ANVj77p3kZZl4Abl\n",
      "35 676.00 7vY7AZQ3VZprkYSgy3c2Eom0\n",
      "36 770.00 Dwt0Y3oobQmzvr3e9XrwPGzR1Iv8bh\n",
      "37 614.00 qlL9qcgMBwUYuBMGhy5KmqcTBaH7Z\n",
      "38 511.00 RU8VVQmxBe8Q6vNuQ2\n",
      "39 116.00 U5tG\n",
      "40 193.00 QAuzSsJimA\n",
      "41 502.00 8yRV5lNKtzJ1atsnBYLMPu\n",
      "42 399.00 CCRnGEY59YVkQfs\n",
      "43 332.00 QONvf08WpRtoZmjbc\n",
      "44 291.00 EN2XeDA4\n",
      "45 488.00 KmTSyFzpjPSa5W3X4gXBo\n",
      "46 198.00 Z9SHDd\n",
      "47 557.00 p62hDiZDQHJMu8W5CN\n",
      "48 896.00 U5GB16JC5kV3ECqWp1OrXXHFOpr\n",
      "49 231.00 eTsprvu5IfijoyS\n",
      "50 140.00 TneAA\n",
      "51 366.00 IDAdn1Ay5XL\n",
      "52 718.00 b24WKyEa8wtWy2591AIVVIZ\n",
      "53 433.00 5oForBFbyvQRZzUk1D6i\n",
      "54 498.00 Ib6zLKQbfPBi3Dldqyun\n",
      "55 429.00 uvW4yrW81Aq1fEb\n",
      "56 474.00 Id8woPeX9PcWb8pm1bNjpiEQ\n",
      "57 124.00 K8nD\n",
      "58 570.00 qXxkMM9VThX0k9tgLb7tKR6\n",
      "59 328.00 z8TmeLS1OpgSX\n",
      "60 241.00 2RMZhYKYcw\n",
      "61 531.00 BQxeGPva2A0FgB9xO5\n",
      "62 627.00 DTjBlUH9PrNZ6IXEDB0ULru2p17\n",
      "63 153.00 r4C\n",
      "64 176.00 WDKNQyvb\n",
      "65 315.00 2ulFnwZqvr4MS4rJ\n",
      "66 36.00 H\n",
      "67 233.00 fpUAFJW\n",
      "68 226.00 SEPTFCYb\n",
      "69 74.00 soz\n",
      "70 487.00 ptQLxEJHwBVJvwSDrtqohUm\n",
      "71 283.00 hVI8WSlmnVE\n",
      "72 222.00 ULWHMsg1m\n",
      "73 172.00 oxltaTIirc\n",
      "74 47.00 Js\n",
      "75 688.00 8iO3WFg3aKsEECvl9dq83Eh\n",
      "76 600.00 ezFeKORdjjZK8tfphJWAMMYNoXH\n",
      "77 410.00 C6Ct3LBtKNdN9\n",
      "78 469.00 g8WnOnqQfkplJekaACSMEsco\n",
      "79 300.00 TsS3DeRo7q\n",
      "80 587.00 YOLQZ7mBhIoPj6r0jedkYtMV0K\n",
      "81 612.00 sChDStSz8rGIFCfMc4BVuMqbfo9R13\n",
      "82 527.00 L8bWR0rKcWWlEHPC6rl\n",
      "83 495.00 BO0FfEwAvuQg2kvASFs\n",
      "84 600.00 8z0WJcDfuquhXz3G0aQ3ID\n",
      "85 359.00 dmHxNWFOCWdnrJ\n",
      "86 199.00 7sC4S\n",
      "87 291.00 hbOMZpTktJaJAfo1\n",
      "88 768.00 hD8hP1jF7TsGTrA1EEpDJjym6MGV4i\n",
      "89 790.00 erXY2Av7YGr0asUt1LLQF3jCIEwv\n",
      "90 492.00 WIyD7u3mSpKyo2XAcu\n",
      "91 698.00 ET6ZyyQY0PjF9ciG9Lv3g32C\n",
      "92 142.00 H6Da\n",
      "93 625.00 jA3PjeEYqvNSzPf2v2R2Iy9u\n",
      "94 510.00 T4WF3IcNepOR6soVfBgWO\n",
      "95 462.00 3gCkSt5bcuYdswxBjpHAKRY\n",
      "96 171.00 klfN3y\n",
      "97 575.00 RpF6LjoDOqDqQa5ZD5sR\n",
      "98 532.00 keC8wLtO9BSqD2tmy2\n",
      "99 256.00 gpyKwKsSsb1QzraK\n"
     ]
    }
   ],
   "source": [
    "fitness = funcao_objetivo(populacao, SENHA) \n",
    "\n",
    "for i in range(len(fitness)):\n",
    "    print(i, f\"{fitness[i]:0.2f}\", \"\".join(populacao[i]))"
   ]
  },
  {
   "cell_type": "markdown",
   "metadata": {},
   "source": [
    "#### Cruzamento\n",
    "\n",
    "Como operador de cruzamento, aqui utilizei uma versão alterada do cruzamento de ponto simples: como os candidatos parentes podem ter tamanhos diferentes, o ponto de corte se baseia no menor pai. Tendo o ponto de corte, os filhos possuem os genes cruzados dos pais antes e após esse ponto.\n",
    "\n",
    "Exemplo:"
   ]
  },
  {
   "cell_type": "code",
   "execution_count": 149,
   "metadata": {},
   "outputs": [
    {
     "name": "stdout",
     "output_type": "stream",
     "text": [
      "tESTE\n",
      "Test\n"
     ]
    }
   ],
   "source": [
    "mae = list(\"TESTE\")\n",
    "pai = list(\"test\")\n",
    "\n",
    "filho_1, filho_2 = funcao_cruzamento(pai, mae, 1)\n",
    "print(\"\".join(filho_1), \"\".join(filho_2), sep=\"\\n\")"
   ]
  },
  {
   "cell_type": "markdown",
   "metadata": {},
   "source": [
    "Foi necessário também definir um comportamento diferente para caso um dos parentes tenha apenas um dígito: ele é trocado com algum dígito do outro parente. Observe o exemplo:"
   ]
  },
  {
   "cell_type": "code",
   "execution_count": 150,
   "metadata": {},
   "outputs": [
    {
     "name": "stdout",
     "output_type": "stream",
     "text": [
      "t\n",
      "tesAe\n"
     ]
    }
   ],
   "source": [
    "mae = list(\"teste\")\n",
    "pai = list(\"A\")\n",
    "\n",
    "filho_1, filho_2 = funcao_cruzamento(pai, mae, 1)\n",
    "print(\"\".join(filho_1), \"\".join(filho_2), sep=\"\\n\")"
   ]
  },
  {
   "cell_type": "markdown",
   "metadata": {},
   "source": [
    "#### Mutação\n",
    "\n",
    "Nessa etapa, observa-se que é essencial ter no mínimo dois operadores de mutação: um para alterar os dígitos e um para alterar o tamanho da senha. Sem qualquer um dos dois, o algoritmo não vai encontrar a resposta certa (e pelo critério de parada ser esse, ele entrará em um loop infinito).\n",
    "\n",
    "Como mutação dos dígitos, utilizei a mutação simples, sem alteração alguma: ela seleciona um índice da senha e troca seu valor por outro dentre os possíveis. \n",
    "\n",
    "Para mutar o tamanho da senha, porém, foi necessário gerar um novo operador (`mutacao_tamanho`), que pode aumentar o tamanho em um (adicionando um dígito possível), ou diminuir o tamanho em um (excluindo o último dígito). Observe o exemplo abaixo:"
   ]
  },
  {
   "cell_type": "code",
   "execution_count": 151,
   "metadata": {},
   "outputs": [
    {
     "name": "stdout",
     "output_type": "stream",
     "text": [
      "TESTEX\n",
      "testeo\n",
      "TamanhoR\n"
     ]
    }
   ],
   "source": [
    "pop_tamanho = [list(\"TESTE\"), list(\"teste\"), list(\"Tamanho\")]\n",
    "\n",
    "funcao_mutacao2(pop_tamanho, 1, list(CARACTERES_POSSIVEIS))\n",
    "for i in pop_tamanho:\n",
    "    print(\"\".join(i))"
   ]
  },
  {
   "cell_type": "markdown",
   "metadata": {},
   "source": [
    "#### Aplicação dos operadores\n",
    "\n",
    "Podemos, então, rodar o algoritmo com todos os operadores novos conforme loop `while` adiante:"
   ]
  },
  {
   "cell_type": "code",
   "execution_count": 152,
   "metadata": {},
   "outputs": [
    {
     "name": "stdout",
     "output_type": "stream",
     "text": [
      "1 R\n",
      "28 Re\n",
      "46 Res\n",
      "128 Resp\n",
      "152 Respo\n",
      "200 Respon\n",
      "223 Respons\n",
      "249 Responsa\n",
      "264 Responsav\n",
      "277 Responsave\n",
      "296 Responsavel\n",
      "308 ResponsavelP\n",
      "370 ResponsavelPe\n",
      "397 ResponsavelPel\n",
      "434 ResponsavelPelpQ\n",
      "448 ResponsavelPeloQ\n",
      "451 ResponsavelPeloQu\n",
      "508 ResponsavelPeloQue\n",
      "580 ResponsavelPeloQueC\n",
      "586 ResponsavelPeloQueCa\n",
      "656 ResponsavelPeloQueCat\n",
      "710 ResponsavelPeloQueCati\n",
      "815 ResponsavelPeloQueCativ\n",
      "958 ResponsavelPeloQueCativa\n",
      "996 ResponsavelPeloQueCativas\n",
      "1009 ResponsavelPeloQueCativas4\n",
      "1081 ResponsavelPeloQueCativas43\n"
     ]
    }
   ],
   "source": [
    "menor_fitness_geral = float(\"inf\")\n",
    "geracao = 0\n",
    "\n",
    "while menor_fitness_geral != 0:\n",
    "    \n",
    "    # Seleção\n",
    "    fitness = funcao_objetivo(populacao, SENHA)        \n",
    "    selecionados = funcao_selecao(populacao, fitness, TAMANHO_TORNEIO)\n",
    "    \n",
    "    # Cruzamento\n",
    "    proxima_geracao = []\n",
    "    for pai, mae in zip(selecionados[::2], selecionados[1::2]):\n",
    "        individuo1, individuo2 = funcao_cruzamento(pai, mae, CHANCE_DE_CRUZAMENTO)\n",
    "        proxima_geracao.append(individuo1)\n",
    "        proxima_geracao.append(individuo2)\n",
    "    \n",
    "    # Mutação\n",
    "    funcao_mutacao1(proxima_geracao, CHANCE_DE_MUTACAO, list(CARACTERES_POSSIVEIS))\n",
    "    funcao_mutacao2(proxima_geracao, CHANCE_DE_MUTACAO, list(CARACTERES_POSSIVEIS))\n",
    "    \n",
    "    # Encerramento\n",
    "    populacao = proxima_geracao\n",
    "    geracao += 1\n",
    "    \n",
    "    fitness = funcao_objetivo(populacao, SENHA)\n",
    "    menor_fitness_observado = min(fitness)\n",
    "    \n",
    "    if menor_fitness_observado < menor_fitness_geral:\n",
    "        menor_fitness_geral = menor_fitness_observado\n",
    "        indice = fitness.index(menor_fitness_observado)\n",
    "        candidato = populacao[indice]\n",
    "        print(geracao, \"\".join(candidato))"
   ]
  },
  {
   "cell_type": "markdown",
   "metadata": {},
   "source": [
    "Observamos, assim, que os operadores utilizados foram suficientes para resolver o problema rapidamente (menos de 2 segundos). Para comparação, caso a mesma senha fosse encontrada com busca exaustiva, seria necessário testar $62^{27} = 2.48\\cdot 10^{48}$ possibilidades, ou seja, o número de caracteres possíveis elevado ao número de caixas. Em termos práticos isso é inviável: em testes aqui utilizando o `itertools.product`, a busca de uma senha de 4 caracteres já demora 2 segundos, enquanto uma senha de 5 caracteres causa erro por falta de memória."
   ]
  },
  {
   "cell_type": "markdown",
   "metadata": {},
   "source": [
    "### Conclusão"
   ]
  },
  {
   "cell_type": "markdown",
   "metadata": {},
   "source": [
    "O algoritmo genético formado com operadores de criação de população, função objetivo, cruzamento e mutação pensados especificamente para o problema da senha de tamanho variável foi eficiente em encontrar uma solução através da busca com recompensa para indivíduos mais próximos da resposta."
   ]
  },
  {
   "cell_type": "markdown",
   "metadata": {},
   "source": [
    "### Referências"
   ]
  },
  {
   "cell_type": "markdown",
   "metadata": {},
   "source": [
    "[1] EYAL WIRSANSKY. Hands-On Genetic Algorithms with Python: Applying genetic algorithms to solve real-world deep learning and artificial intelligence problems, 2020. Chapter 2: Understanding the Key Components of Genetic Algorithms, Crossover for ordered lists."
   ]
  }
 ],
 "metadata": {
  "kernelspec": {
   "display_name": "base",
   "language": "python",
   "name": "python3"
  },
  "language_info": {
   "codemirror_mode": {
    "name": "ipython",
    "version": 3
   },
   "file_extension": ".py",
   "mimetype": "text/x-python",
   "name": "python",
   "nbconvert_exporter": "python",
   "pygments_lexer": "ipython3",
   "version": "3.11.5"
  }
 },
 "nbformat": 4,
 "nbformat_minor": 2
}
