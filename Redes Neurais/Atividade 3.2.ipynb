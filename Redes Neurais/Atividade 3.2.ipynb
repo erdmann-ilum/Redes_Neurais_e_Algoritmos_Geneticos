{
 "cells": [
  {
   "cell_type": "markdown",
   "metadata": {},
   "source": [
    "<img src=\"https://pages.cnpem.br/capsuladaciencia/wp-content/uploads/sites/155/2022/10/Ilum.png\" alt=\"Ilum - Escola de Ciência\" width=\"200\"/>\n",
    "\n",
    "**Redes Neurais e Algoritmos Genéticos 2025**\n",
    "\n",
    "**Prof. Dr. Daniel R. Cassar**\n",
    "\n",
    "Rafael Dalacorte Erdmann (24017)"
   ]
  },
  {
   "cell_type": "markdown",
   "metadata": {},
   "source": [
    "## Monstrinho 2: “Átomos não são bolinhas e ligações químicas não são pauzinhos” — Prof. Julio"
   ]
  },
  {
   "cell_type": "markdown",
   "metadata": {},
   "source": [
    "**Objetivo:** Utilize classes de Python para modelar elementos químicos e moléculas.\n",
    "\n",
    "**Considerações do experimento:** Crie uma classe chamada ```Elemento```. *Todo* elemento químico utilizado nesta tarefa deve ser uma instância desta classe. Toda instância da classe ```Elemento``` deve ter os seguintes atributos: símbolo do elemento, número atômico do elemento e peso atômico do elemento (fique à vontade para incluir outras informações se quiser). Crie uma classe chamada ```Molecula```. Esta classe deve receber um dicionário onde as chaves representam os elementos e os valores representam a quantidade do respectivo elemento. A classe ```Molecula``` deve ter um método capaz de exibir o peso atômico da molécula criada e um método capaz gerar uma fórmula química (em string) para esta molécula.\n",
    "\n",
    "**Observação:** não é necessário que a fórmula química siga as regras oficiais da química,\n",
    "basta representar os elementos existentes e suas quantidades.\n"
   ]
  },
  {
   "cell_type": "markdown",
   "metadata": {},
   "source": [
    "### Introdução"
   ]
  },
  {
   "cell_type": "markdown",
   "metadata": {},
   "source": [
    "Sendo uma linguagem orientada à objetos[1], Python se baseia fortemente em instâncias de Classes, ou seja, objetos que seguem regras e características específicas definidas nas instruções de cada Classe (como `int`, `list`, `str`, etc.). Nesse contexto, a compreensão do funcionamento das ditas Classes é um importante fundamento na formação do programador Python, que melhor compreenderá o que o computador fará com o código gerado."
   ]
  },
  {
   "cell_type": "markdown",
   "metadata": {},
   "source": [
    "### Classe Elemento"
   ]
  },
  {
   "cell_type": "code",
   "execution_count": 1,
   "metadata": {},
   "outputs": [],
   "source": [
    "class Elemento:\n",
    "    '''Classe de elementos químicos com símbolo do elemento, número atômico e peso atômico'''\n",
    "\n",
    "    def __init__(self, nome, simbolo, numero, peso):\n",
    "        self.nome = nome\n",
    "        self.sym = simbolo\n",
    "\n",
    "        if numero < 1:\n",
    "            raise ValueError(\"Número atômico impossível\")\n",
    "        \n",
    "        self.z = numero\n",
    "        \n",
    "        if peso < self.z:\n",
    "            raise ValueError(\"Peso atômico impossível\")\n",
    "        \n",
    "        self.p = peso            \n",
    "\n",
    "    def __repr__(self):\n",
    "        return f\"{self.sym}\""
   ]
  },
  {
   "cell_type": "code",
   "execution_count": 2,
   "metadata": {},
   "outputs": [],
   "source": [
    "C = Elemento(\"Carbono\", \"C\", 6, 12.011)\n",
    "H = Elemento(\"Hidrogênio\", \"H\", 1, 1.008)\n",
    "O = Elemento(\"Oxigênio\", \"O\", 8, 15.999)"
   ]
  },
  {
   "cell_type": "markdown",
   "metadata": {},
   "source": [
    "### Classe Molecula"
   ]
  },
  {
   "cell_type": "markdown",
   "metadata": {},
   "source": [
    "A solução abaixo foi baseada no método str.join usada para concatenação segundo postagem de 2012 no fórum *stackoverflow*[2]."
   ]
  },
  {
   "cell_type": "code",
   "execution_count": 3,
   "metadata": {},
   "outputs": [],
   "source": [
    "class Molecula:\n",
    "    '''Classe de moléculas formadas por dicionários de Elementos'''\n",
    "\n",
    "    def __init__(self, nome, dicionario):\n",
    "        self.nome = nome\n",
    "        self.dic = dicionario\n",
    "        self.elementos = [i for i in dicionario.keys()]\n",
    "        self.estequiometria = [i for i in dicionario.values()]\n",
    "\n",
    "    def __repr__(self):\n",
    "        return f\"Molécula {self.nome}, com fórmula química {self.formula()} e peso molecular {self.peso()}\"\n",
    "\n",
    "    def formula(self):\n",
    "        formula = \"\"\n",
    "        \n",
    "        for elemento, quantia in zip(self.elementos, self.estequiometria):\n",
    "            if quantia > 1:\n",
    "                formula += elemento.sym + str(quantia)\n",
    "            else:\n",
    "                formula += elemento.sym\n",
    "\n",
    "        return formula\n",
    "    \n",
    "    def peso(self):\n",
    "        p = 0\n",
    "        for elemento, quantia in zip(self.elementos, self.estequiometria):\n",
    "            p += elemento.p * quantia\n",
    "        return p\n"
   ]
  },
  {
   "cell_type": "code",
   "execution_count": 4,
   "metadata": {},
   "outputs": [
    {
     "data": {
      "text/plain": [
       "{C: 1, H: 4}"
      ]
     },
     "execution_count": 4,
     "metadata": {},
     "output_type": "execute_result"
    }
   ],
   "source": [
    "dicionario_teste = {C:1,H:4}\n",
    "dicionario_teste\n"
   ]
  },
  {
   "cell_type": "code",
   "execution_count": 5,
   "metadata": {},
   "outputs": [
    {
     "data": {
      "text/plain": [
       "'CH4'"
      ]
     },
     "execution_count": 5,
     "metadata": {},
     "output_type": "execute_result"
    }
   ],
   "source": [
    "metano = Molecula(\"Metano\", dicionario_teste)\n",
    "metano.formula()"
   ]
  },
  {
   "cell_type": "code",
   "execution_count": 6,
   "metadata": {},
   "outputs": [
    {
     "data": {
      "text/plain": [
       "16.043"
      ]
     },
     "execution_count": 6,
     "metadata": {},
     "output_type": "execute_result"
    }
   ],
   "source": [
    "metano.peso()"
   ]
  },
  {
   "cell_type": "code",
   "execution_count": 7,
   "metadata": {},
   "outputs": [
    {
     "data": {
      "text/plain": [
       "Molécula Etanol, com fórmula química C2H6O e peso molecular 46.069"
      ]
     },
     "execution_count": 7,
     "metadata": {},
     "output_type": "execute_result"
    }
   ],
   "source": [
    "etanol = {C:2, H:6, O:1}\n",
    "etanol = Molecula(\"Etanol\", etanol)\n",
    "etanol"
   ]
  },
  {
   "cell_type": "markdown",
   "metadata": {},
   "source": [
    "### Conclusão"
   ]
  },
  {
   "cell_type": "markdown",
   "metadata": {},
   "source": [
    "Esses exemplos foram uma simples implementação de um conceito científico no formato de Classes, que podem gerar instâncias (objetos) no Python, uma ferramenta importante para a programação de algoritmos mais complexos como Redes Neurais do tipo MLP (Multi Layer Perceptron) e muitos outros."
   ]
  },
  {
   "cell_type": "markdown",
   "metadata": {},
   "source": [
    "### Referências"
   ]
  },
  {
   "cell_type": "markdown",
   "metadata": {},
   "source": [
    "[1] Wikipedia. Python (programming language). Disponível em https://en.wikipedia.org/wiki/Python_(programming_language). Acesso em 21/04/2025.\n",
    "\n",
    "[2] Stackoverflow. How to concatenate (join) items in a list to a single string [duplicate]. Disponível em https://stackoverflow.com/questions/12453580/how-to-concatenate-join-items-in-a-list-to-a-single-string. Acesso em 21/04/2025."
   ]
  }
 ],
 "metadata": {
  "kernelspec": {
   "display_name": "base",
   "language": "python",
   "name": "python3"
  },
  "language_info": {
   "codemirror_mode": {
    "name": "ipython",
    "version": 3
   },
   "file_extension": ".py",
   "mimetype": "text/x-python",
   "name": "python",
   "nbconvert_exporter": "python",
   "pygments_lexer": "ipython3",
   "version": "3.11.5"
  }
 },
 "nbformat": 4,
 "nbformat_minor": 2
}
