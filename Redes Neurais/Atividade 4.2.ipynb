{
 "cells": [
  {
   "cell_type": "markdown",
   "metadata": {},
   "source": [
    "<img src=\"https://pages.cnpem.br/capsuladaciencia/wp-content/uploads/sites/155/2022/10/Ilum.png\" alt=\"Ilum - Escola de Ciência\" width=\"200\"/>\n",
    "\n",
    "**Redes Neurais e Algoritmos Genéticos 2025**\n",
    "\n",
    "**Prof. Dr. Daniel R. Cassar**\n",
    "\n",
    "Rafael Dalacorte Erdmann (24017)"
   ]
  },
  {
   "cell_type": "markdown",
   "metadata": {},
   "source": [
    "## Fera Formidável 2: Stop right now, thank you very much"
   ]
  },
  {
   "cell_type": "markdown",
   "metadata": {},
   "source": [
    "**Objetivo:** implemente uma estratégia de Parada Antecipada (*Early Stopping*) no processo de treino da rede neural feita em Python puro ou no processo de treino da rede neural feita em `PyTorch`.\n",
    "\n",
    "**Comentário:** esta não é para resolver com o módulo `lightning`."
   ]
  },
  {
   "cell_type": "markdown",
   "metadata": {},
   "source": [
    "### Introdução"
   ]
  },
  {
   "cell_type": "markdown",
   "metadata": {},
   "source": [
    "A estratégia de parada antecipada é um método heurístico de regularização da rede, feito com o intuito principal de evitar *overfitting*. Há maneiras diferentes de definir o critério de parada, como o número de épocas de treinamento [1] ou o momento em que a perda de um set de validação comece a crescer (significando que o modelo está começando a sofrer *overfit*) [2]. \n",
    "\n",
    "O código da rede neural feita em Python puro nas aulas já estava baseado em um número de épocas de treinamento, de modo que para resolver esse problema iremos implementar o critério de parada do *validation set*."
   ]
  },
  {
   "cell_type": "markdown",
   "metadata": {},
   "source": [
    "### Definição das Classes\n",
    "\n",
    "Não há nada de novo nessa etapa, é apenas a importação das classes `Valor`, `Neurônio`, `Camada` e `MLP` já presentes em atividades anteriores."
   ]
  },
  {
   "cell_type": "code",
   "execution_count": 367,
   "metadata": {},
   "outputs": [],
   "source": [
    "import random\n",
    "import numpy as np\n",
    "\n",
    "class Valor:\n",
    "    def __init__(self, data, progenitor=(), operador_mae=\"\", rotulo=\"\"):\n",
    "        self.data = data\n",
    "        self.progenitor = progenitor\n",
    "        self.operador_mae = operador_mae\n",
    "        self.rotulo = rotulo\n",
    "        self.grad = 0\n",
    "\n",
    "    def __repr__(self):\n",
    "        return f\"Valor(data={self.data})\"\n",
    "    \n",
    "    def __add__(self, outro_valor):\n",
    "        \"\"\"Realiza a operação: self + outro_valor.\"\"\"\n",
    "        \n",
    "        if not isinstance(outro_valor, Valor):\n",
    "            outro_valor = Valor(outro_valor)\n",
    "            \n",
    "        progenitor = (self, outro_valor)\n",
    "        data = self.data + outro_valor.data\n",
    "        operador_mae = \"+\"\n",
    "        resultado = Valor(data, progenitor, operador_mae)\n",
    "        \n",
    "        def propagar_adicao():\n",
    "            self.grad += resultado.grad\n",
    "            outro_valor.grad += resultado.grad\n",
    "            \n",
    "        resultado.propagar = propagar_adicao\n",
    "        \n",
    "        return resultado\n",
    "    \n",
    "    def __mul__(self, outro_valor):\n",
    "        \"\"\"Realiza a operação: self * outro_valor.\"\"\"\n",
    "        \n",
    "        if not isinstance(outro_valor, Valor):\n",
    "            outro_valor = Valor(outro_valor)\n",
    "            \n",
    "        progenitor = (self, outro_valor)\n",
    "        data = self.data * outro_valor.data\n",
    "        operador_mae = \"*\"\n",
    "        resultado = Valor(data, progenitor, operador_mae)\n",
    "        \n",
    "        def propagar_multiplicacao():\n",
    "            self.grad += resultado.grad * outro_valor.data # grad_filho * derivada filho em relação a mãe\n",
    "            outro_valor.grad += resultado.grad * self.data\n",
    "            \n",
    "        resultado.propagar = propagar_multiplicacao\n",
    "        \n",
    "        return resultado\n",
    "    \n",
    "    def exp(self):\n",
    "        \"\"\"Realiza a operação: exp(self)\"\"\"\n",
    "        progenitor = (self, )\n",
    "        data = np.exp(self.data)\n",
    "        operador_mae = \"exp\"\n",
    "        resultado = Valor(data, progenitor, operador_mae)\n",
    "        \n",
    "        def propagar_exp():\n",
    "            self.grad += resultado.grad * data \n",
    "        \n",
    "        resultado.propagar = propagar_exp\n",
    "        \n",
    "        return resultado\n",
    "    \n",
    "    def __pow__(self, expoente):\n",
    "        \"\"\"Realiza a operação: self ** expoente\"\"\"\n",
    "        assert isinstance(expoente, (int, float))\n",
    "        progenitor = (self, )\n",
    "        data = self.data ** expoente\n",
    "        operador_mae = f\"**{expoente}\"\n",
    "        resultado = Valor(data, progenitor, operador_mae)\n",
    "        \n",
    "        def propagar_pow():\n",
    "            self.grad += resultado.grad * (expoente * self.data ** (expoente - 1))\n",
    "        \n",
    "        resultado.propagar = propagar_pow\n",
    "        \n",
    "        return resultado\n",
    "    \n",
    "    def __truediv__(self, outro_valor):\n",
    "        \"\"\"Realiza a operação: self / outro_valor\"\"\"\n",
    "        return self * outro_valor ** (-1)\n",
    "    \n",
    "    def __neg__(self):\n",
    "        \"\"\"Realiza a operação: -self\"\"\"\n",
    "        return self * -1\n",
    "    \n",
    "    def __sub__(self, outro_valor):\n",
    "        \"\"\"Realiza a operação: self - outro_valor\"\"\"\n",
    "        return self + (-outro_valor)\n",
    "    \n",
    "    def __radd__(self, outro_valor):\n",
    "        \"\"\"Realiza a operação: outro_valor + self\"\"\"\n",
    "        return self + outro_valor\n",
    "    \n",
    "    def __rmul__(self, outro_valor):\n",
    "        \"\"\"Realiza a operação: outro_valor * self\"\"\"\n",
    "        return self * outro_valor\n",
    "    \n",
    "    def sig(self):\n",
    "        \"\"\"Realiza a operação: exp(self) / (exp(self) + 1)\"\"\"\n",
    "        return self.exp() / (self.exp() + 1)\n",
    "    \n",
    "    def propagar(self):\n",
    "        pass\n",
    "    \n",
    "    def propagar_tudo(self):\n",
    "        \n",
    "        self.grad = 1\n",
    "        \n",
    "        ordem_topologica = []\n",
    "        \n",
    "        visitados = set()\n",
    "\n",
    "        def constroi_ordem_topologica(v):\n",
    "            if v not in visitados:\n",
    "                visitados.add(v)\n",
    "                for progenitor in v.progenitor:\n",
    "                    constroi_ordem_topologica(progenitor)\n",
    "                ordem_topologica.append(v)\n",
    "\n",
    "        constroi_ordem_topologica(self)\n",
    "        \n",
    "        for vertice in reversed(ordem_topologica):\n",
    "            vertice.propagar()\n",
    "\n",
    "class Neuronio:\n",
    "    def __init__(self, num_dados_entrada):\n",
    "        self.vies = Valor(random.uniform(-1, 1))\n",
    "        self.pesos = []\n",
    "        for i in range(num_dados_entrada):\n",
    "            self.pesos.append(Valor(random.uniform(-1, 1)))\n",
    "            \n",
    "    def __call__(self, x):\n",
    "        \n",
    "        assert len(x) == len(self.pesos)\n",
    "        \n",
    "        soma = 0\n",
    "        for info_entrada, peso_interno in zip(x, self.pesos):\n",
    "            soma += info_entrada * peso_interno\n",
    "            \n",
    "        soma += self.vies  \n",
    "        dado_de_saida = soma.sig()\n",
    "        \n",
    "        return dado_de_saida       \n",
    "    \n",
    "    def parametros(self):\n",
    "        return self.pesos + [self.vies]\n",
    "    \n",
    "class Camada:\n",
    "    def __init__(self, num_neuronios, num_dados_entrada):\n",
    "        neuronios = []\n",
    "        \n",
    "        for i in range(num_neuronios):\n",
    "            neuronio = Neuronio(num_dados_entrada)\n",
    "            neuronios.append(neuronio)\n",
    "            \n",
    "        self.neuronios = neuronios \n",
    "        \n",
    "    def __call__(self, x):\n",
    "        dados_de_saida = []\n",
    "        \n",
    "        for neuronio in self.neuronios:\n",
    "            informacao = neuronio(x)\n",
    "            dados_de_saida.append(informacao)\n",
    "            \n",
    "        if len(dados_de_saida) == 1:\n",
    "            return dados_de_saida[0]\n",
    "        else:        \n",
    "            return dados_de_saida  \n",
    "    \n",
    "    def parametros(self):\n",
    "        params = []\n",
    "        \n",
    "        for neuronio in self.neuronios:\n",
    "            params_neuronio = neuronio.parametros()\n",
    "            params.extend(params_neuronio)\n",
    "        \n",
    "        return params\n",
    "    \n",
    "class MLP:   \n",
    "    def __init__(self, num_dados_entrada, num_neuronios_por_camada):\n",
    "        \n",
    "        percurso = [num_dados_entrada] + num_neuronios_por_camada\n",
    "        \n",
    "        camadas = []\n",
    "        \n",
    "        for i in range(len(num_neuronios_por_camada)):\n",
    "            camada = Camada(num_neuronios_por_camada[i], percurso[i])\n",
    "            camadas.append(camada)\n",
    "            \n",
    "        self.epocas = 0\n",
    "        self.curva_treino = []\n",
    "        self.curva_validacao = []\n",
    "        self.camadas = camadas\n",
    "        \n",
    "    def __call__(self, x):\n",
    "        for camada in self.camadas:\n",
    "            x = camada(x)\n",
    "        return x\n",
    "    \n",
    "    def parametros(self):\n",
    "        params = []\n",
    "        \n",
    "        for camada in self.camadas:\n",
    "            parametros_camada = camada.parametros()\n",
    "            params.extend(parametros_camada)\n",
    "            \n",
    "        return params"
   ]
  },
  {
   "cell_type": "markdown",
   "metadata": {},
   "source": [
    "### Novos dados\n",
    "\n",
    "Os dados utilizados para treino da rede MLP serão os dados didáticos de pinguins disponíveis no Seaborn."
   ]
  },
  {
   "cell_type": "code",
   "execution_count": 368,
   "metadata": {},
   "outputs": [],
   "source": [
    "from sklearn.model_selection import train_test_split\n",
    "from sklearn.preprocessing import OrdinalEncoder\n",
    "import seaborn as sns\n",
    "\n",
    "SEMENTE_ALEATORIA = 42\n",
    "random.seed(SEMENTE_ALEATORIA)\n",
    "\n",
    "TAMANHO_TESTE = 0.1\n",
    "TAMANHO_VALIDACAO = 0.2\n",
    "\n",
    "dados = sns.load_dataset(\"penguins\")\n",
    "dados = dados.dropna().reset_index()\n",
    "\n",
    "FEATURES = ['bill_length_mm', 'bill_depth_mm', 'flipper_length_mm', 'sex', 'species']\n",
    "TARGETS = ['body_mass_g']\n",
    "\n",
    "# conversão simbólico-numérico dos features sexo e espécie\n",
    "for feature in ['sex','species']:\n",
    "    x = dados[feature]\n",
    "\n",
    "    ordem = [x.unique()]\n",
    "    encoder = OrdinalEncoder(categories=ordem)\n",
    "\n",
    "    ## ajuste dos dados\n",
    "    x = x.values.reshape((-1,1))\n",
    "    encoder.fit(x)\n",
    "\n",
    "    ## conversão dos dados\n",
    "    dados_convertidos = encoder.transform(x)\n",
    "    dados[feature] = dados_convertidos\n",
    "#\n",
    "\n",
    "# normalização minmax\n",
    "conversao = {}\n",
    "\n",
    "for variavel in FEATURES+TARGETS:\n",
    "    maximo = dados[variavel].max()\n",
    "    minimo = dados[variavel].min()\n",
    "\n",
    "    conversao[variavel+\"_min\"] = minimo\n",
    "    conversao[variavel+\"_max\"] = maximo\n",
    "\n",
    "    dados[variavel] = (dados[variavel] - minimo) / (maximo - minimo)\n",
    "\n",
    "def reconversao(y_norm, minimo, maximo):\n",
    "        y_real = y_norm * (maximo - minimo) + minimo\n",
    "        return y_real\n",
    "#\n",
    "\n",
    "# Tratamento dos dados\n",
    "x = dados.reindex(FEATURES, axis=1)\n",
    "y_true = dados.reindex(TARGETS, axis=1).values\n",
    "\n",
    "indices = range(len(x))\n",
    "indices_treinamento, indices_teste = train_test_split(\n",
    "    indices, test_size=TAMANHO_TESTE, random_state=42\n",
    ")\n",
    "\n",
    "indices_treino, indices_val = train_test_split(\n",
    "    indices_treinamento, test_size=TAMANHO_VALIDACAO, random_state=42\n",
    ")\n",
    "\n",
    "x_treino = x.loc[indices_treino].values.tolist()\n",
    "y_true_treino = y_true[indices_treino].reshape(-1,1)\n",
    "\n",
    "x_val = x.loc[indices_val].values.tolist()\n",
    "y_true_val = y_true[indices_val].reshape(-1,1)\n",
    "\n",
    "x_teste = x.loc[indices_teste].values.tolist()\n",
    "y_true_teste = y_true[indices_teste].reshape(-1,1)\n",
    "#"
   ]
  },
  {
   "cell_type": "code",
   "execution_count": null,
   "metadata": {},
   "outputs": [],
   "source": [
    "# Arquitetura da rede neural\n",
    "NUM_DADOS_DE_ENTRADA = len(FEATURES)  \n",
    "NUM_DADOS_DE_SAIDA = len(TARGETS)    \n",
    "CAMADAS_OCULTAS = [3, 2]  \n",
    "\n",
    "arquitetura_da_rede = CAMADAS_OCULTAS + [NUM_DADOS_DE_SAIDA]\n",
    "\n",
    "minha_mlp = MLP(NUM_DADOS_DE_ENTRADA, arquitetura_da_rede)\n",
    "#"
   ]
  },
  {
   "cell_type": "markdown",
   "metadata": {},
   "source": [
    "### Treinamento em épocas"
   ]
  },
  {
   "cell_type": "markdown",
   "metadata": {},
   "source": [
    "Aqui está de fato a implementação do critério de parada: ao final da época, após ter salvo uma curva de validação (conforme Monstrinho 6), o algoritmo checa se o último *loss* de validação está maior do que a média dos 7 *losses* anteriores, levando em conta o arredondamento para um número específico de decimais (parâmetro `decimais_precisao`)."
   ]
  },
  {
   "cell_type": "code",
   "execution_count": 383,
   "metadata": {},
   "outputs": [],
   "source": [
    "def treino_epocas(mlp:MLP, x_treino:list, x_val:list, y_true_treino:list, y_true_val:list, taxa_de_aprendizado:float, decimais_precisao:int, iter_max=1000):\n",
    "    \"\"\"Função que realiza o treinamento em épocas de uma rede neural MLP. Implementa dois critérios de parada: caso os gradientes das últimas 5 épocas de treinamento sejam iguais à média das últimas 10 épocas (com precisão decimais_precisao), ou caso o número de épocas alcance o limite iter_max.\n",
    "    \n",
    "    Args:\n",
    "        mlp: instância da classe MLP\n",
    "        x_treino: lista com valores de features destinadas para treino\n",
    "        x_val: lista com valores de features destinadas para validação\n",
    "        y_true_treino: lista com valores de targets associados a cada linha de features dos dados de treino\n",
    "        y_true_val: lista com valores de targets associados a cada linha de features dos dados de validação\n",
    "        taxa_de_aprendizado: taxa de aprendizado do modelo, recomenda-se usar por volta de 0.5\n",
    "        decimais_precisao: número de valores decimais considerados no critério de parada (quanto mais decimais, mais custo computacional)\n",
    "        iter_max: número máximo de iterações caso o modelo não consiga convergir\n",
    "        \n",
    "    Returns:\n",
    "        não há retorno, a função atualiza os parâmetros da instância mlp\"\"\"\n",
    "\n",
    "    curva_treino = []\n",
    "    curva_validacao = []\n",
    "\n",
    "    num_epocas = 0\n",
    "\n",
    "    for _ in range(iter_max):\n",
    "        # forward pass\n",
    "        ## forward pass do treino\n",
    "        y_pred_treino = []\n",
    "\n",
    "        for exemplo in x_treino:\n",
    "            previsao = mlp(exemplo)\n",
    "            y_pred_treino.append(previsao)\n",
    "\n",
    "        ## forward pass da validação\n",
    "        y_pred_val = []\n",
    "\n",
    "        for exemplo in x_val:\n",
    "            previsao = mlp(exemplo)\n",
    "            y_pred_val.append(previsao)\n",
    "\n",
    "        # loss\n",
    "        ## loss do treino (RMSE)\n",
    "        erros_treino = []\n",
    "        for yt, yp in zip(y_true_treino, y_pred_treino):\n",
    "            residuo = yp - yt\n",
    "            erro_quadratico = residuo ** 2\n",
    "            erros_treino.append(erro_quadratico)\n",
    "        loss_treino = (sum(erros_treino)/len(y_true_treino))**(1/2)\n",
    "\n",
    "        ## loss da validação (RMSE)\n",
    "        erros_val = []\n",
    "        for yt, yp in zip(y_true_val, y_pred_val):\n",
    "            residuo = yp - yt\n",
    "            erro_quadratico = residuo ** 2\n",
    "            erros_val.append(erro_quadratico)\n",
    "        loss_val = (sum(erros_val)/len(y_true_val))**(1/2)\n",
    "\n",
    "        # zero grad\n",
    "        for p in mlp.parametros():\n",
    "            p.grad = 0\n",
    "\n",
    "        # backpropagation\n",
    "        loss_treino.propagar_tudo()\n",
    "\n",
    "        # atualiza parâmetros\n",
    "        for p in mlp.parametros():\n",
    "            p.data = p.data - p.grad * taxa_de_aprendizado\n",
    "\n",
    "        # SALVA o resultado\n",
    "        curva_treino.append(loss_treino.data)\n",
    "        curva_validacao.append(loss_val.data)\n",
    "        num_epocas += 1 \n",
    "\n",
    "        # checa o critério de parada\n",
    "        if decimais_precisao:\n",
    "            if num_epocas > 7:\n",
    "                if round(float(curva_validacao[-1]),decimais_precisao) >= round(np.mean(curva_validacao[-7:-1]), decimais_precisao):\n",
    "                    break\n",
    "\n",
    "    mlp.epocas += num_epocas\n",
    "    mlp.curva_treino += curva_treino\n",
    "    mlp.curva_validacao += curva_validacao"
   ]
  },
  {
   "cell_type": "code",
   "execution_count": 370,
   "metadata": {},
   "outputs": [],
   "source": [
    "TAXA_DE_APRENDIZADO = 1\n",
    "DECIMAIS_PRECISAO = 6\n",
    "\n",
    "treino_epocas(minha_mlp, x_treino, x_val, y_true_treino, y_true_val, \n",
    "              TAXA_DE_APRENDIZADO, DECIMAIS_PRECISAO, iter_max=1000)"
   ]
  },
  {
   "cell_type": "markdown",
   "metadata": {},
   "source": [
    "Plotando a curva de aprendizado do teste"
   ]
  },
  {
   "cell_type": "code",
   "execution_count": 380,
   "metadata": {},
   "outputs": [
    {
     "data": {
      "image/png": "[encoded data removed]",
      "text/plain": [
       "<Figure size 640x480 with 1 Axes>"
      ]
     },
     "metadata": {},
     "output_type": "display_data"
    }
   ],
   "source": [
    "import matplotlib.pyplot as plt\n",
    "\n",
    "fig, axes = plt.subplots()\n",
    "\n",
    "axes.plot(range(minha_mlp.epocas), minha_mlp.curva_treino, label=\"Treino\")\n",
    "axes.plot(range(minha_mlp.epocas), minha_mlp.curva_validacao, label=\"Validação\")\n",
    "axes.set_title(f\"Rede Neural MLP com {minha_mlp.epocas} épocas de treinamento\")\n",
    "axes.set_ylabel(\"RMSE (massa normalizada minmax)\")\n",
    "axes.set_xlabel(\"Épocas de treinamento\")\n",
    "axes.legend()\n",
    "plt.show()"
   ]
  },
  {
   "cell_type": "markdown",
   "metadata": {},
   "source": [
    "Agora vamos checar qual o erro do nosso modelo ao prever dados que ele não viu: o set de teste."
   ]
  },
  {
   "cell_type": "code",
   "execution_count": 379,
   "metadata": {},
   "outputs": [
    {
     "name": "stdout",
     "output_type": "stream",
     "text": [
      "COMPARAÇÃO:\n",
      "RMSE treino: [0.09085403]\n",
      "RMSE validação: [0.09184854]\n",
      "RMSE teste: [0.08245193]\n"
     ]
    }
   ],
   "source": [
    "y_pred = []\n",
    "\n",
    "for x in x_teste:\n",
    "    previsao = minha_mlp(x)\n",
    "    y_pred.append(previsao)\n",
    "\n",
    "erros_teste = []\n",
    "for yt, yp in zip(y_true_teste, y_pred):\n",
    "    residuo = yp - yt\n",
    "    erro_quadratico = residuo ** 2\n",
    "    erros_teste.append(erro_quadratico)\n",
    "loss_teste = (sum(erros_teste)/len(y_true_teste))**(1/2)\n",
    "\n",
    "print('COMPARAÇÃO:', f'RMSE treino: {minha_mlp.curva_treino[-1]}', f'RMSE validação: {minha_mlp.curva_validacao[-1]}', f'RMSE teste: {loss_teste.data}', sep=\"\\n\")"
   ]
  },
  {
   "cell_type": "markdown",
   "metadata": {},
   "source": [
    "Portanto, a perda ficou semelhante à perda dos dados de treino e de validação na última época do modelo, indicando que o *overfit* foi evitado.\n",
    "\n",
    "Para isso, a rede teve que ser treinada com uma taxa de aprendizado alta ($= 1$) para conseguir superar o *plateau* de perda que durou até a época $200$. \n",
    "\n",
    "Podemos, ainda, continuar treinando a rede para observar (apenas com objetivo didático, claro que isso seria excessivo para um problema real) qual é o comportamento da perda da validação após o critério de parada:"
   ]
  },
  {
   "cell_type": "code",
   "execution_count": 384,
   "metadata": {},
   "outputs": [],
   "source": [
    "epoca_parada = minha_mlp.epocas\n",
    "\n",
    "treino_epocas(minha_mlp, x_treino, x_val, y_true_treino, y_true_val, \n",
    "              TAXA_DE_APRENDIZADO, decimais_precisao=None, iter_max=1000-minha_mlp.epocas)"
   ]
  },
  {
   "cell_type": "code",
   "execution_count": 396,
   "metadata": {},
   "outputs": [
    {
     "data": {
      "image/png": "[encoded data removed]",
      "text/plain": [
       "<Figure size 640x480 with 1 Axes>"
      ]
     },
     "metadata": {},
     "output_type": "display_data"
    }
   ],
   "source": [
    "import matplotlib.pyplot as plt\n",
    "\n",
    "epoca_parada = 750\n",
    "fig, axes = plt.subplots()\n",
    "\n",
    "axes.plot(range(minha_mlp.epocas), minha_mlp.curva_treino, label=\"Treino\")\n",
    "axes.plot(range(minha_mlp.epocas), minha_mlp.curva_validacao, label=\"Validação\")\n",
    "axes.set_title(f\"Rede Neural MLP com {minha_mlp.epocas} épocas de treinamento\")\n",
    "axes.set_ylabel(\"RMSE (massa normalizada minmax)\")\n",
    "axes.set_xlabel(\"Épocas de treinamento\")\n",
    "axes.set_xlim(epoca_parada, minha_mlp.epocas)\n",
    "axes.set_ylim(0, minha_mlp.curva_validacao[-minha_mlp.epocas+epoca_parada-1]*2)\n",
    "axes.legend()\n",
    "plt.show()"
   ]
  },
  {
   "cell_type": "markdown",
   "metadata": {},
   "source": [
    "Ou seja, de fato a perda da validação estava piorando (mesmo que, nesse caso, piorando pouco), sinal de que a rede estava começando a ter *overfit*."
   ]
  },
  {
   "cell_type": "markdown",
   "metadata": {},
   "source": [
    "### Conclusão"
   ]
  },
  {
   "cell_type": "markdown",
   "metadata": {},
   "source": [
    "Com o critério de parada baseado na piora da curva de perda da validação, foi possível evitar custo computacional desnecessário (de treino excessivo do modelo) e garantir que o modelo não sofreu *overfit*."
   ]
  },
  {
   "cell_type": "markdown",
   "metadata": {},
   "source": [
    "### Referências"
   ]
  },
  {
   "cell_type": "markdown",
   "metadata": {},
   "source": [
    "[1] Prince, S. J. D. **Understanding Deep Learning.** 9.3.1: Early Stopping. The MIT Press: 2023.\n",
    "\n",
    "[2] Hastie, T.; Tibshirani, R.; Friedman, J. **The Elements of Statistical Learning: Data Mining, Inference, and Prediction.** 11.5.2: Overfitting. Springer: 2nd Edition, 2009."
   ]
  }
 ],
 "metadata": {
  "kernelspec": {
   "display_name": "base",
   "language": "python",
   "name": "python3"
  },
  "language_info": {
   "codemirror_mode": {
    "name": "ipython",
    "version": 3
   },
   "file_extension": ".py",
   "mimetype": "text/x-python",
   "name": "python",
   "nbconvert_exporter": "python",
   "pygments_lexer": "ipython3",
   "version": "3.11.5"
  }
 },
 "nbformat": 4,
 "nbformat_minor": 2
}
