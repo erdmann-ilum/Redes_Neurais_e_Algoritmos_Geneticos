{
 "cells": [
  {
   "cell_type": "markdown",
   "metadata": {},
   "source": [
    "<img src=\"https://pages.cnpem.br/capsuladaciencia/wp-content/uploads/sites/155/2022/10/Ilum.png\" alt=\"Ilum - Escola de Ciência\" width=\"200\"/>\n",
    "\n",
    "**Redes Neurais e Algoritmos Genéticos 2025**\n",
    "\n",
    "**Prof. Dr. Daniel R. Cassar**\n",
    "\n",
    "Rafael Dalacorte Erdmann (24017)"
   ]
  },
  {
   "cell_type": "markdown",
   "metadata": {},
   "source": [
    "## Monstrinho 4: \\_\\_dunder\\_\\_"
   ]
  },
  {
   "cell_type": "markdown",
   "metadata": {},
   "source": [
    "**Objetivo:** Se informe sobre métodos dunder que *não* foram utilizados no material de aula e crie uma classe que contenha pelo menos 3 destes métodos dunder. Faça códigos onde cada um destes métodos dunder seja acessado sem os chamar explicitamente (exemplo: não é para rodar a.\\_\\_add\\_\\_(b) mas sim a + b para o caso do dunder \\_\\_add\\_\\_).\n",
    "\n",
    "**Considerações do experimento:** A classe deve conter pelo menos 3 métodos dunder que não foram vistos no material da disciplina. Sua classe deve fazer sentido, isto é, não crie uma classe “sem pé nem cabeça” apenas para a entrega. Reflita sobre uma classe onde os métodos dunder propostos realmente fazem sentido. Na sua entrega, explique brevemente o que fazem os métodos dunder que escolheu e mostre eles em ação com uma instância da sua classe."
   ]
  },
  {
   "cell_type": "markdown",
   "metadata": {},
   "source": [
    "### Introdução"
   ]
  },
  {
   "cell_type": "markdown",
   "metadata": {},
   "source": [
    "Métodos dunder (double underscore, como são definidos, ex: \\_\\_add\\_\\_) são métodos especiais do Python, capazes de interagir com diversos operadores da linguagem[1]. Por exemplo, ao realizar uma soma 1 + 2, o que o computador realmente realiza é o dunder 1.\\_\\_add\\_\\_(2), definido nesse caso dentro da classe `int`. O mesmo ocorre para outros operadores matemáticos e funções como chamar uma instância, como objeto()."
   ]
  },
  {
   "cell_type": "markdown",
   "metadata": {},
   "source": [
    "### Aplicação\n",
    "\n",
    "Aqui, utilizarei a classe Jogador já definida previamente em aula e implementarei os novos métodos dunder que serão explicados nas seções seguintes:"
   ]
  },
  {
   "cell_type": "code",
   "execution_count": 15,
   "metadata": {},
   "outputs": [],
   "source": [
    "class Jogador:\n",
    "    \"\"\"Classe para representar um jogador de RPG.\"\"\"\n",
    "\n",
    "    # esse atributo dunder limita os atributos possíveis na instância\n",
    "    __slots__ = (\"nome\",\"pv\",\"nivel\", \"inventario\")\n",
    "\n",
    "    def __init__(self, nome, pontos_de_vida, nivel):\n",
    "        self.nome = nome\n",
    "        self.pv = pontos_de_vida\n",
    "        # atributo novo: nível do personagem\n",
    "        self.nivel = nivel\n",
    "\n",
    "    def __repr__(self):\n",
    "        return f\"Personagem {self.nome} com {self.pv} pontos de vida\"\n",
    "\n",
    "    def toma_dano(self, dano):\n",
    "        self.pv = self.pv - dano\n",
    "\n",
    "    def cura_vida(self, pontos_de_cura):\n",
    "        self.pv = self.pv + pontos_de_cura\n",
    "\n",
    "    \"\"\"Métodos dunder novos:\"\"\"\n",
    "        \n",
    "    def __gt__(self, outro):\n",
    "        \"\"\"método para comparar níveis dos personagens; por padrão do Python, ao definir >, ele define < como o contrário.\"\"\"\n",
    "        if isinstance(outro, (int,float)):\n",
    "            if self.nivel > outro:\n",
    "                return True\n",
    "            else:\n",
    "                return False\n",
    "            \n",
    "        elif self.nivel > outro.nivel:\n",
    "            return True\n",
    "        else:\n",
    "            return False\n",
    "        \n",
    "    def __ge__(self, outro):\n",
    "        \"\"\"método para comparar níveis dos personagens; por padrão do Python, ao definir >=, ele define <= como o contrário.\"\"\"\n",
    "        if isinstance(outro, (int,float)):\n",
    "            if self.nivel >= outro:\n",
    "                return True\n",
    "            else:\n",
    "                return False\n",
    "        \n",
    "        elif self.nivel >= outro.nivel:\n",
    "            return True\n",
    "        else:\n",
    "            return False\n",
    "        \n",
    "    def __eq__(self, outro):\n",
    "        \"\"\"método para comparar níveis dos personagens; por padrão do Python, ao definir ==, ele define != como o contrário.\"\"\"\n",
    "        if isinstance(outro, (int,float)):\n",
    "            if self.nivel == outro:\n",
    "                return True\n",
    "            else:\n",
    "                return False\n",
    "\n",
    "        elif self.nivel == outro.nivel:\n",
    "            return True\n",
    "        else:\n",
    "            return False\n",
    "        \n",
    "    def __getitem__(self,a):\n",
    "        if a == \"pv\":\n",
    "            return self.pv\n",
    "        elif a == \"nome\":\n",
    "            return self.nome\n",
    "        elif a == \"nivel\":\n",
    "            return self.nivel\n",
    "        elif a == \"inventario\":\n",
    "            return self.inventario\n",
    "        else:\n",
    "            raise ValueError(\"Atributo não encontrado.\")\n",
    "        \n",
    "    def __setitem__(self, a, b):\n",
    "        if a == \"pv\":\n",
    "            self.pv = b\n",
    "            return self.pv\n",
    "        elif a == \"nome\":\n",
    "            self.nome = b\n",
    "            return self.nome\n",
    "        elif a == \"nivel\":\n",
    "            self.nivel = b\n",
    "            return self.nivel\n",
    "        elif a == \"inventario\":\n",
    "            self.inventario = b\n",
    "            return self.inventario\n",
    "        else:\n",
    "            raise ValueError(\"Atributo não encontrado.\")"
   ]
  },
  {
   "cell_type": "markdown",
   "metadata": {},
   "source": [
    "### Comparações\n",
    "\n",
    "Há alguns métodos dunder que definem o comportamento dos operadores de comparação do Python, sendo eles:\n",
    "- \\_\\_gt\\_\\_: define >\n",
    "- \\_\\_lt\\_\\_: define < (por padrão, nega o valor do >)\n",
    "- \\_\\_ge\\_\\_: define >=\n",
    "- \\_\\_le\\_\\_: define <= (por padrão, nega o valor do >=)\n",
    "- \\_\\_eq\\_\\_: define ==\n",
    "- \\_\\_neq\\_\\_: define != (por padrão, roda == e nega o valor)"
   ]
  },
  {
   "cell_type": "code",
   "execution_count": 16,
   "metadata": {},
   "outputs": [
    {
     "data": {
      "text/plain": [
       "False"
      ]
     },
     "execution_count": 16,
     "metadata": {},
     "output_type": "execute_result"
    }
   ],
   "source": [
    "oliver = Jogador(\"Oliver Fontes\", 13, 3)\n",
    "rebeca = Jogador(\"Rebeca Carvalho\", 19, 4)\n",
    "oliver > rebeca"
   ]
  },
  {
   "cell_type": "code",
   "execution_count": 17,
   "metadata": {},
   "outputs": [
    {
     "data": {
      "text/plain": [
       "True"
      ]
     },
     "execution_count": 17,
     "metadata": {},
     "output_type": "execute_result"
    }
   ],
   "source": [
    "oliver < rebeca"
   ]
  },
  {
   "cell_type": "code",
   "execution_count": 18,
   "metadata": {},
   "outputs": [
    {
     "data": {
      "text/plain": [
       "True"
      ]
     },
     "execution_count": 18,
     "metadata": {},
     "output_type": "execute_result"
    }
   ],
   "source": [
    "oliver = Jogador(\"Oliver Fontes\", 13, 4)\n",
    "oliver >= rebeca"
   ]
  },
  {
   "cell_type": "code",
   "execution_count": 19,
   "metadata": {},
   "outputs": [
    {
     "data": {
      "text/plain": [
       "True"
      ]
     },
     "execution_count": 19,
     "metadata": {},
     "output_type": "execute_result"
    }
   ],
   "source": [
    "oliver == rebeca"
   ]
  },
  {
   "cell_type": "code",
   "execution_count": 20,
   "metadata": {},
   "outputs": [
    {
     "data": {
      "text/plain": [
       "True"
      ]
     },
     "execution_count": 20,
     "metadata": {},
     "output_type": "execute_result"
    }
   ],
   "source": [
    "oliver == 4"
   ]
  },
  {
   "cell_type": "markdown",
   "metadata": {},
   "source": [
    "### Subscrito personagem[informação]\n",
    "\n",
    "O método dunder \\_\\_getitem\\_\\_(self, a) define o que acontece quando chamamos um subscrito da instância: x[a]. Note, porém, que para editar o atributo chamado, precisamos definir o funcionamento do dunder \\_\\_setitem\\_\\_."
   ]
  },
  {
   "cell_type": "code",
   "execution_count": 21,
   "metadata": {},
   "outputs": [
    {
     "data": {
      "text/plain": [
       "4"
      ]
     },
     "execution_count": 21,
     "metadata": {},
     "output_type": "execute_result"
    }
   ],
   "source": [
    "oliver[\"nivel\"]"
   ]
  },
  {
   "cell_type": "code",
   "execution_count": 22,
   "metadata": {},
   "outputs": [
    {
     "data": {
      "text/plain": [
       "4"
      ]
     },
     "execution_count": 22,
     "metadata": {},
     "output_type": "execute_result"
    }
   ],
   "source": [
    "n = \"nivel\"\n",
    "\n",
    "oliver[n]"
   ]
  },
  {
   "cell_type": "code",
   "execution_count": 23,
   "metadata": {},
   "outputs": [
    {
     "data": {
      "text/plain": [
       "5"
      ]
     },
     "execution_count": 23,
     "metadata": {},
     "output_type": "execute_result"
    }
   ],
   "source": [
    "oliver[\"nivel\"] = 5\n",
    "oliver[\"nivel\"]"
   ]
  },
  {
   "cell_type": "markdown",
   "metadata": {},
   "source": [
    "Automaticamente, o Python já definiu os operadores _in-place_ +=, -=, *= etc. que são controlados pelos dunder \\_\\_iadd\\_\\_, \\_\\_isub\\_\\_, \\_\\_imul\\_\\_, respectivamente."
   ]
  },
  {
   "cell_type": "code",
   "execution_count": 24,
   "metadata": {},
   "outputs": [
    {
     "data": {
      "text/plain": [
       "8"
      ]
     },
     "execution_count": 24,
     "metadata": {},
     "output_type": "execute_result"
    }
   ],
   "source": [
    "oliver[\"nivel\"] += 3\n",
    "oliver[\"nivel\"]"
   ]
  },
  {
   "cell_type": "code",
   "execution_count": 25,
   "metadata": {},
   "outputs": [
    {
     "data": {
      "text/plain": [
       "16"
      ]
     },
     "execution_count": 25,
     "metadata": {},
     "output_type": "execute_result"
    }
   ],
   "source": [
    "oliver[\"nivel\"] *= 2\n",
    "oliver[\"nivel\"]"
   ]
  },
  {
   "cell_type": "markdown",
   "metadata": {},
   "source": [
    "### Slots\n",
    "\n",
    "O comportamento padrão da definição de classes é armazenar atributos no dunder \\_\\_dict\\_\\_, que é um dicionário. Ele é o que é alterado quando editamos um atributo de instância pela operação ```instancia.atributo = novo_valor```. Esse dunder também permite adicionarmos um atributo que não estava presente antes, bastando definir um novo valor da mesma maneira: ```instancia.atributo_inédito = novo_valor```.\n",
    "\n",
    "Porém, há um outro dunder que permite substituir esse comportamento: o \\_\\_slots\\_\\_. Ele é um atributo dunder que aceita uma tupla de strings, e faz com que cada string seja um possível atributo (e nada além deles). Isso quer dizer que você pode limitar a instância para que não sejam criados novos atributos (intencionalmente ou não) além dos permitidos. Ele ainda permite a edição dos valores e ainda permite a criação de um desses atributos listados, caso não tenha sido criado na inicialização da instância."
   ]
  },
  {
   "cell_type": "code",
   "execution_count": 26,
   "metadata": {},
   "outputs": [
    {
     "ename": "AttributeError",
     "evalue": "'Jogador' object has no attribute 'inventario'",
     "output_type": "error",
     "traceback": [
      "\u001b[1;31m---------------------------------------------------------------------------\u001b[0m",
      "\u001b[1;31mAttributeError\u001b[0m                            Traceback (most recent call last)",
      "Cell \u001b[1;32mIn[26], line 1\u001b[0m\n\u001b[1;32m----> 1\u001b[0m oliver\u001b[38;5;241m.\u001b[39minventario\n",
      "\u001b[1;31mAttributeError\u001b[0m: 'Jogador' object has no attribute 'inventario'"
     ]
    }
   ],
   "source": [
    "oliver.inventario"
   ]
  },
  {
   "cell_type": "markdown",
   "metadata": {},
   "source": [
    "Observe que aqui não definimos nenhuma informação para o atributo \"inventario\", e portanto ele não existe. Mas há um slot para ele, como podemos checar abaixo:"
   ]
  },
  {
   "cell_type": "code",
   "execution_count": 12,
   "metadata": {},
   "outputs": [
    {
     "data": {
      "text/plain": [
       "('nome', 'pv', 'nivel', 'inventario')"
      ]
     },
     "execution_count": 12,
     "metadata": {},
     "output_type": "execute_result"
    }
   ],
   "source": [
    "oliver.__slots__"
   ]
  },
  {
   "cell_type": "markdown",
   "metadata": {},
   "source": [
    "Definindo-o, então, poderemos chamá-lo normalmente."
   ]
  },
  {
   "cell_type": "code",
   "execution_count": 13,
   "metadata": {},
   "outputs": [
    {
     "data": {
      "text/plain": [
       "['espada']"
      ]
     },
     "execution_count": 13,
     "metadata": {},
     "output_type": "execute_result"
    }
   ],
   "source": [
    "oliver.inventario = [\"espada\"]\n",
    "oliver.inventario"
   ]
  },
  {
   "cell_type": "markdown",
   "metadata": {},
   "source": [
    "Porém, agora que estamos utilizando slots não podemos definir nenhum outro atributo diferente:"
   ]
  },
  {
   "cell_type": "code",
   "execution_count": 14,
   "metadata": {},
   "outputs": [
    {
     "ename": "AttributeError",
     "evalue": "'Jogador' object has no attribute 'ataques'",
     "output_type": "error",
     "traceback": [
      "\u001b[1;31m---------------------------------------------------------------------------\u001b[0m",
      "\u001b[1;31mAttributeError\u001b[0m                            Traceback (most recent call last)",
      "Cell \u001b[1;32mIn[14], line 1\u001b[0m\n\u001b[1;32m----> 1\u001b[0m oliver\u001b[38;5;241m.\u001b[39mataques \u001b[38;5;241m=\u001b[39m \u001b[38;5;124m\"\u001b[39m\u001b[38;5;124mDivine Smite\u001b[39m\u001b[38;5;124m\"\u001b[39m\n",
      "\u001b[1;31mAttributeError\u001b[0m: 'Jogador' object has no attribute 'ataques'"
     ]
    }
   ],
   "source": [
    "oliver.ataques = \"Divine Smite\""
   ]
  },
  {
   "cell_type": "markdown",
   "metadata": {},
   "source": [
    "### Conclusão"
   ]
  },
  {
   "cell_type": "markdown",
   "metadata": {},
   "source": [
    "Aqui foi demonstrada a ação de alguns dunders, mas há muitos outros métodos e atributos listados (apenas recentemente de maneira tão completa) pelo Trey Hunner do site Python Morsels[1]. Caso se interesse em continuar explorando o potencial dos métodos dunder, recomendo a leitura do site, na referência abaixo."
   ]
  },
  {
   "cell_type": "markdown",
   "metadata": {},
   "source": [
    "### Referências"
   ]
  },
  {
   "cell_type": "markdown",
   "metadata": {},
   "source": [
    "[1] Python Morsels. Every dunder method. Disponível em https://www.pythonmorsels.com/every-dunder-method/. Acesso em 21/04/2025."
   ]
  }
 ],
 "metadata": {
  "kernelspec": {
   "display_name": "base",
   "language": "python",
   "name": "python3"
  },
  "language_info": {
   "codemirror_mode": {
    "name": "ipython",
    "version": 3
   },
   "file_extension": ".py",
   "mimetype": "text/x-python",
   "name": "python",
   "nbconvert_exporter": "python",
   "pygments_lexer": "ipython3",
   "version": "3.11.5"
  }
 },
 "nbformat": 4,
 "nbformat_minor": 2
}
